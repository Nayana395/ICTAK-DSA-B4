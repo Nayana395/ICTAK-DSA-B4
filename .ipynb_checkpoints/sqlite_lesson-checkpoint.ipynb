{
  "nbformat": 4,
  "nbformat_minor": 0,
  "metadata": {
    "colab": {
      "provenance": []
    },
    "kernelspec": {
      "name": "python3",
      "display_name": "Python 3"
    },
    "language_info": {
      "name": "python"
    }
  },
  "cells": [
    {
      "cell_type": "code",
      "source": [
        "import sqlite3"
      ],
      "metadata": {
        "id": "Q6xrAf0CgwyW"
      },
      "execution_count": null,
      "outputs": []
    },
    {
      "cell_type": "code",
      "source": [
        "def load_imdb_database(db_path):\n",
        "  try:\n",
        "    conn = sqlite3.connect(db_path)\n",
        "    print(\"IMDB database loaded successfully.\")\n",
        "    return conn\n",
        "  except sqlite3.Error as e:\n",
        "    print(f\"Error loading IMDB database: {e}\")\n",
        "    return None"
      ],
      "metadata": {
        "id": "YOO65TNTg7fg"
      },
      "execution_count": null,
      "outputs": []
    },
    {
      "cell_type": "code",
      "execution_count": null,
      "metadata": {
        "colab": {
          "base_uri": "https://localhost:8080/"
        },
        "id": "-0Th69XEghxi",
        "outputId": "d39c5708-2d7e-459f-cd13-ebd25953994b"
      },
      "outputs": [
        {
          "output_type": "stream",
          "name": "stdout",
          "text": [
            "IMDB database loaded successfully.\n",
            "Connection successful\n"
          ]
        }
      ],
      "source": [
        "db_path = \"imdb.db\"\n",
        "conn = load_imdb_database(db_path)\n",
        "\n",
        "if conn:\n",
        "  print(\"Connection successful\")\n",
        "  cursor = conn.cursor()"
      ]
    },
    {
      "cell_type": "code",
      "source": [
        "cursor.execute(\"SELECT * FROM movie LIMIT 10\")\n",
        "rows = cursor.fetchall()\n",
        "for row in rows:\n",
        "  print(row)"
      ],
      "metadata": {
        "colab": {
          "base_uri": "https://localhost:8080/"
        },
        "id": "ApvzuhtUhRYL",
        "outputId": "78cc8fe8-1f92-49fb-9e7b-50d11db03ba9"
      },
      "execution_count": null,
      "outputs": [
        {
          "output_type": "stream",
          "name": "stdout",
          "text": [
            "(0, 'tt2388771', 'Mowgli', '2018', 6.6, 21967)\n",
            "(1, 'tt5164214', \"Ocean's Eight\", '2018', 6.2, 110861)\n",
            "(2, 'tt1365519', 'Tomb Raider', '2018', 6.4, 142585)\n",
            "(3, 'tt0848228', 'The Avengers', '2012', 8.1, 1137529)\n",
            "(4, 'tt8239946', 'Tumbbad', '2018', 8.5, 7483)\n",
            "(5, 'tt7027278', 'Kedarnath', '2018', 5.5, 1970)\n",
            "(6, 'tt3498820', 'Captain America: Civil War', '2016', 7.8, 536641)\n",
            "(7, 'tt8108198', 'Andhadhun', '2018', 9.0, 18160)\n",
            "(8, 'tt3741834', 'Lion', '2016', 8.1, 170216)\n",
            "(9, 'tt6747420', 'Rajma Chawal', '2018', 5.7, 681)\n"
          ]
        }
      ]
    },
    {
      "cell_type": "code",
      "source": [
        "conn.close()"
      ],
      "metadata": {
        "id": "qYNpS7UEhKc4"
      },
      "execution_count": null,
      "outputs": []
    }
  ]
}