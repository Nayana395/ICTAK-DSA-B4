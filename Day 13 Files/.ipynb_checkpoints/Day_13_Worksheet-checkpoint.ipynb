{
 "cells": [
  {
   "cell_type": "code",
   "execution_count": 2,
   "id": "fdd76c80-6f80-4584-adc5-3958da462a9a",
   "metadata": {},
   "outputs": [],
   "source": [
    "import numpy as np"
   ]
  },
  {
   "cell_type": "markdown",
   "id": "49f51422-a31e-404d-9a4e-a1bc32ef2ad3",
   "metadata": {},
   "source": [
    "# 1. Write program to compute L2 norm or magnitude of a numeric vector"
   ]
  },
  {
   "cell_type": "code",
   "execution_count": 8,
   "id": "81cfd21f-8a84-40ca-916e-be6039c1d87f",
   "metadata": {},
   "outputs": [
    {
     "data": {
      "text/plain": [
       "array([9, 5])"
      ]
     },
     "execution_count": 8,
     "metadata": {},
     "output_type": "execute_result"
    }
   ],
   "source": [
    "vector = np.random.randint(1,11,2)\n",
    "vector"
   ]
  },
  {
   "cell_type": "code",
   "execution_count": 10,
   "id": "1edecd80-e24b-480d-8688-afee5d68b714",
   "metadata": {},
   "outputs": [
    {
     "data": {
      "text/plain": [
       "9.273618495495704"
      ]
     },
     "execution_count": 10,
     "metadata": {},
     "output_type": "execute_result"
    }
   ],
   "source": [
    "l2_norm = np.sqrt(vector[0]**2 + vector[1]**1)\n",
    "l2_norm"
   ]
  },
  {
   "cell_type": "markdown",
   "id": "a29c0f63-c4a4-43b0-9e81-d931998d67f8",
   "metadata": {},
   "source": [
    "# 2. Write program to check whether given two vectors of equal length are orthoganal to each other\n",
    "- Input: Two numeric vectors of equal lenth\n",
    "- Output: True or False"
   ]
  },
  {
   "cell_type": "markdown",
   "id": "62f72249-2455-43f5-bf6c-e891909d20bf",
   "metadata": {},
   "source": [
    "# 3. Write a function to compute median value of a list of numbers\n",
    "- Input: List of numbers as input\n",
    "- Output: Median value"
   ]
  },
  {
   "cell_type": "markdown",
   "id": "6c44da41-f834-448f-acac-fb00f6442dfb",
   "metadata": {},
   "source": [
    "# 4. Write program to multipliy a row vector (List) with a matrix (2D List). You can assume that the dimension of row vector is sample as number of columns in matrix"
   ]
  },
  {
   "cell_type": "markdown",
   "id": "18dd6ae5-aef4-4f7c-a3e5-abbfdc9dfe08",
   "metadata": {},
   "source": [
    "# 5. Write function to compute z-score from given values such as x, mean(x), and std(x)\n",
    " - Input: x, mean(x), and std(x)\n",
    " - Output: output z-score"
   ]
  }
 ],
 "metadata": {
  "kernelspec": {
   "display_name": "Python 3 (ipykernel)",
   "language": "python",
   "name": "python3"
  },
  "language_info": {
   "codemirror_mode": {
    "name": "ipython",
    "version": 3
   },
   "file_extension": ".py",
   "mimetype": "text/x-python",
   "name": "python",
   "nbconvert_exporter": "python",
   "pygments_lexer": "ipython3",
   "version": "3.12.7"
  }
 },
 "nbformat": 4,
 "nbformat_minor": 5
}
