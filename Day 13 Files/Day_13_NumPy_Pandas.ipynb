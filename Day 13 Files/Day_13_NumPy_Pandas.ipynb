{
 "cells": [
  {
   "cell_type": "markdown",
   "id": "6e52987e-5775-42c9-a277-090243f61281",
   "metadata": {},
   "source": [
    "# NumPy and Pandas"
   ]
  },
  {
   "cell_type": "code",
   "execution_count": 2,
   "id": "69fd1d8c-b6a6-42e9-b36e-eed9c18f4b9f",
   "metadata": {},
   "outputs": [],
   "source": [
    "import numpy as np"
   ]
  },
  {
   "cell_type": "code",
   "execution_count": 3,
   "id": "1ba71157-3a50-4413-ad03-a101d84627e0",
   "metadata": {},
   "outputs": [
    {
     "data": {
      "text/plain": [
       "28.577380332470412"
      ]
     },
     "execution_count": 3,
     "metadata": {},
     "output_type": "execute_result"
    }
   ],
   "source": [
    "x = np.arange(1,100)\n",
    "np.std(x)"
   ]
  },
  {
   "cell_type": "code",
   "execution_count": 4,
   "id": "39487a53-b4e1-4e95-861f-1f04517bfe59",
   "metadata": {},
   "outputs": [
    {
     "data": {
      "text/plain": [
       "array([0.55161611, 0.88451096, 0.36778826, 0.05945769])"
      ]
     },
     "execution_count": 4,
     "metadata": {},
     "output_type": "execute_result"
    }
   ],
   "source": [
    "np.random.random(4)"
   ]
  },
  {
   "cell_type": "code",
   "execution_count": 5,
   "id": "71216f60-1aa3-4575-956e-41a0d3ffed2e",
   "metadata": {},
   "outputs": [
    {
     "data": {
      "text/plain": [
       "array([1.14947919, 0.7519652 , 0.04689184, 0.26933347])"
      ]
     },
     "execution_count": 5,
     "metadata": {},
     "output_type": "execute_result"
    }
   ],
   "source": [
    "np.random.randn(4)"
   ]
  },
  {
   "cell_type": "code",
   "execution_count": 6,
   "id": "d1c48dd2-7e23-4f51-b871-b30ea2cd8c0c",
   "metadata": {},
   "outputs": [
    {
     "data": {
      "text/plain": [
       "array([6, 3, 3, 2])"
      ]
     },
     "execution_count": 6,
     "metadata": {},
     "output_type": "execute_result"
    }
   ],
   "source": [
    "np.random.randint(1,11,4)"
   ]
  },
  {
   "cell_type": "code",
   "execution_count": 7,
   "id": "4eddfc4b-6dfa-49e8-80fd-f275167f2257",
   "metadata": {},
   "outputs": [
    {
     "name": "stdout",
     "output_type": "stream",
     "text": [
      "[0 1 2 3 4 5 6 7 8 9]\n"
     ]
    },
    {
     "data": {
      "text/plain": [
       "dtype('int64')"
      ]
     },
     "execution_count": 7,
     "metadata": {},
     "output_type": "execute_result"
    }
   ],
   "source": [
    "a = np.arange(10)\n",
    "print(a)\n",
    "a.dtype"
   ]
  },
  {
   "cell_type": "code",
   "execution_count": 8,
   "id": "22a27b8a-0f52-45c8-a44c-79325e3639a0",
   "metadata": {},
   "outputs": [
    {
     "name": "stdout",
     "output_type": "stream",
     "text": [
      "[0. 1. 2. 3. 4. 5. 6. 7. 8. 9.]\n"
     ]
    },
    {
     "data": {
      "text/plain": [
       "dtype('float64')"
      ]
     },
     "execution_count": 8,
     "metadata": {},
     "output_type": "execute_result"
    }
   ],
   "source": [
    "a = np.arange(10, dtype=np.float64)\n",
    "print(a)\n",
    "a.dtype"
   ]
  },
  {
   "cell_type": "code",
   "execution_count": 9,
   "id": "2e72a2e1-d1c0-4fcc-b7b5-3a52556985b1",
   "metadata": {},
   "outputs": [
    {
     "data": {
      "text/plain": [
       "dtype('complex128')"
      ]
     },
     "execution_count": 9,
     "metadata": {},
     "output_type": "execute_result"
    }
   ],
   "source": [
    "np.array([1+3j]).dtype"
   ]
  },
  {
   "cell_type": "code",
   "execution_count": 10,
   "id": "adb46391-0709-4eed-ac66-f93e0046de96",
   "metadata": {},
   "outputs": [
    {
     "data": {
      "text/plain": [
       "dtype('bool')"
      ]
     },
     "execution_count": 10,
     "metadata": {},
     "output_type": "execute_result"
    }
   ],
   "source": [
    "np.array([True, False]).dtype"
   ]
  },
  {
   "cell_type": "code",
   "execution_count": 11,
   "id": "148f4081-cf61-40bb-8078-4967ce9d5a51",
   "metadata": {},
   "outputs": [
    {
     "data": {
      "text/plain": [
       "dtype('<U6')"
      ]
     },
     "execution_count": 11,
     "metadata": {},
     "output_type": "execute_result"
    }
   ],
   "source": [
    "np.array([\"Hello\", \"World!\"]).dtype"
   ]
  },
  {
   "cell_type": "code",
   "execution_count": 12,
   "id": "42701f2f-e348-4987-91ec-b680c4a5c6a4",
   "metadata": {},
   "outputs": [
    {
     "data": {
      "text/plain": [
       "array([ 1,  2,  3,  4,  5,  6,  7,  8,  9, 10, 11, 12, 13, 14, 15, 16, 17,\n",
       "       18, 19, 20, 21, 22, 23, 24, 25, 26, 27, 28, 29, 30, 31, 32, 33, 34,\n",
       "       35, 36, 37, 38, 39, 40, 41, 42, 43, 44, 45, 46, 47, 48, 49, 50, 51,\n",
       "       52, 53, 54, 55, 56, 57, 58, 59, 60, 61, 62, 63, 64, 65, 66, 67, 68,\n",
       "       69, 70, 71, 72, 73, 74, 75, 76, 77, 78, 79, 80, 81, 82, 83, 84, 85,\n",
       "       86, 87, 88, 89, 90, 91, 92, 93, 94, 95, 96, 97, 98, 99])"
      ]
     },
     "execution_count": 12,
     "metadata": {},
     "output_type": "execute_result"
    }
   ],
   "source": [
    "x"
   ]
  },
  {
   "cell_type": "code",
   "execution_count": 13,
   "id": "fa476353-10e3-4602-ad9b-91d5af9cf1bc",
   "metadata": {},
   "outputs": [
    {
     "name": "stdout",
     "output_type": "stream",
     "text": [
      "[   1    2    3    4    5    6    7    8    9   10   11   12   13   14\n",
      "   15   16   17   18   19   20   21   22   23   24   25   26   27   28\n",
      "   29   30   31   32   33   34   35   36   37   38   39   40   41   42\n",
      "   43   44   45   46   47   48   49   50   51   52   53   54   55   56\n",
      "   57   58   59   60   61   62   63   64   65   66   67   68   69   70\n",
      "   71   72   73   74   75   76   77   78   79   80   81   82   83   84\n",
      "   85   86   87   88   89   90   91   92   93   94   95   96   97   98\n",
      " 1000]\n"
     ]
    }
   ],
   "source": [
    "x[98] = 1000\n",
    "print(x)"
   ]
  },
  {
   "cell_type": "code",
   "execution_count": 14,
   "id": "f17a5062-e0a6-4700-b756-5f67155bc828",
   "metadata": {},
   "outputs": [
    {
     "data": {
      "text/plain": [
       "array([   1,    3,    5,    7,    9,   11,   13,   15,   17,   19,   21,\n",
       "         23,   25,   27,   29,   31,   33,   35,   37,   39,   41,   43,\n",
       "         45,   47,   49,   51,   53,   55,   57,   59,   61,   63,   65,\n",
       "         67,   69,   71,   73,   75,   77,   79,   81,   83,   85,   87,\n",
       "         89,   91,   93,   95,   97, 1000])"
      ]
     },
     "execution_count": 14,
     "metadata": {},
     "output_type": "execute_result"
    }
   ],
   "source": [
    "y = x[::2]\n",
    "y"
   ]
  },
  {
   "cell_type": "code",
   "execution_count": 15,
   "id": "81e71a53-5fd8-479d-a4a0-91ee8ba65d17",
   "metadata": {},
   "outputs": [
    {
     "data": {
      "text/plain": [
       "array([1000,   97,   95,   93,   91,   89,   87,   85,   83,   81,   79,\n",
       "         77,   75,   73,   71,   69,   67,   65,   63,   61,   59,   57,\n",
       "         55,   53,   51,   49,   47,   45,   43,   41,   39,   37,   35,\n",
       "         33,   31,   29,   27,   25,   23,   21,   19,   17,   15,   13,\n",
       "         11,    9,    7,    5,    3,    1])"
      ]
     },
     "execution_count": 15,
     "metadata": {},
     "output_type": "execute_result"
    }
   ],
   "source": [
    "x[::-2]"
   ]
  },
  {
   "cell_type": "code",
   "execution_count": 16,
   "id": "9fa0bdb6-9b92-4474-b4d9-f0a5c182bdb2",
   "metadata": {},
   "outputs": [
    {
     "data": {
      "text/plain": [
       "array([1000,   97,   95,   93,   91,   89,   87,   85,   83,   81,   79,\n",
       "         77,   75,   73,   71,   69,   67,   65,   63,   61,   59,   57,\n",
       "         55,   53,   51,   49,   47,   45,   43,   41,   39,   37,   35,\n",
       "         33,   31,   29,   27,   25,   23,   21,   19,   17,   15,   13,\n",
       "         11,    9,    7,    5,    3,    1])"
      ]
     },
     "execution_count": 16,
     "metadata": {},
     "output_type": "execute_result"
    }
   ],
   "source": [
    "x[::2][::-1]"
   ]
  },
  {
   "cell_type": "code",
   "execution_count": 17,
   "id": "f8a4af53-020d-4cd1-afe4-66996b7bc0f4",
   "metadata": {},
   "outputs": [
    {
     "data": {
      "text/plain": [
       "array([   1,    3,    5,    7,    9,   11,   13,   15,   17,   19,   21,\n",
       "         23,   25,   27,   29,   31,   33,   35,   37,   39,   41,   43,\n",
       "         45,   47,   49,   51,   53,   55,   57,   59,   61,   63,   65,\n",
       "         67,   69,   71,   73,   75,   77,   79,   81,   83,   85,   87,\n",
       "         89,   91,   93,   95,   97, 1000])"
      ]
     },
     "execution_count": 17,
     "metadata": {},
     "output_type": "execute_result"
    }
   ],
   "source": [
    "x[::2][::-1][::-1]"
   ]
  },
  {
   "cell_type": "code",
   "execution_count": 18,
   "id": "c62d6f25-6d14-4986-b6f9-f02118e69498",
   "metadata": {},
   "outputs": [
    {
     "data": {
      "text/plain": [
       "True"
      ]
     },
     "execution_count": 18,
     "metadata": {},
     "output_type": "execute_result"
    }
   ],
   "source": [
    "np.shares_memory(x,y)"
   ]
  },
  {
   "cell_type": "code",
   "execution_count": 19,
   "id": "6fabc494-a988-4516-b623-55a8cbadc621",
   "metadata": {},
   "outputs": [
    {
     "data": {
      "text/plain": [
       "array([   1,    3,    5,    7,    9,   11,   13,   15,   17,   19,   21,\n",
       "         23,   25,   27,   29,   31,   33,   35,   37,   39,   41,   43,\n",
       "         45,   47,   49,   51,   53,   55,   57,   59,   61,   63,   65,\n",
       "         67,   69,   71,   73,   75,   77,   79,   81,   83,   85,   87,\n",
       "         89,   91,   93,   95,   97, 1000])"
      ]
     },
     "execution_count": 19,
     "metadata": {},
     "output_type": "execute_result"
    }
   ],
   "source": [
    "z = x[::2].copy()\n",
    "z"
   ]
  },
  {
   "cell_type": "code",
   "execution_count": 20,
   "id": "ea4bd561-ce1c-44f4-88cf-72a2356dab23",
   "metadata": {},
   "outputs": [
    {
     "data": {
      "text/plain": [
       "False"
      ]
     },
     "execution_count": 20,
     "metadata": {},
     "output_type": "execute_result"
    }
   ],
   "source": [
    "np.shares_memory(x,z)"
   ]
  },
  {
   "cell_type": "code",
   "execution_count": 21,
   "id": "0f3bc268-3aad-45ae-96f1-3e4f5bbd98ee",
   "metadata": {},
   "outputs": [
    {
     "data": {
      "text/plain": [
       "array([[1, 2],\n",
       "       [3, 4],\n",
       "       [5, 6]])"
      ]
     },
     "execution_count": 21,
     "metadata": {},
     "output_type": "execute_result"
    }
   ],
   "source": [
    "a = np.arange(1,7).reshape(3,2)\n",
    "a"
   ]
  },
  {
   "cell_type": "code",
   "execution_count": 22,
   "id": "ea9cde89-cc54-4d13-8a09-0bd98fc1aafc",
   "metadata": {},
   "outputs": [
    {
     "data": {
      "text/plain": [
       "array([[ 7,  8],\n",
       "       [ 9, 10],\n",
       "       [11, 12]])"
      ]
     },
     "execution_count": 22,
     "metadata": {},
     "output_type": "execute_result"
    }
   ],
   "source": [
    "b = np.arange(7,13).reshape(3,2)\n",
    "b"
   ]
  },
  {
   "cell_type": "code",
   "execution_count": 23,
   "id": "16c6a28a-43e3-4465-9488-d67ef14b45d5",
   "metadata": {},
   "outputs": [
    {
     "data": {
      "text/plain": [
       "array([[ 1,  2],\n",
       "       [ 3,  4],\n",
       "       [ 5,  6],\n",
       "       [ 7,  8],\n",
       "       [ 9, 10],\n",
       "       [11, 12]])"
      ]
     },
     "execution_count": 23,
     "metadata": {},
     "output_type": "execute_result"
    }
   ],
   "source": [
    "vertical_stack = np.vstack((a,b))\n",
    "vertical_stack"
   ]
  },
  {
   "cell_type": "code",
   "execution_count": 24,
   "id": "9076f7ce-07e3-477f-88b1-ec8535c45f40",
   "metadata": {},
   "outputs": [
    {
     "data": {
      "text/plain": [
       "array([[ 1,  2,  7,  8],\n",
       "       [ 3,  4,  9, 10],\n",
       "       [ 5,  6, 11, 12]])"
      ]
     },
     "execution_count": 24,
     "metadata": {},
     "output_type": "execute_result"
    }
   ],
   "source": [
    "horizontal_stack = np.hstack((a,b))\n",
    "horizontal_stack"
   ]
  },
  {
   "cell_type": "code",
   "execution_count": 25,
   "id": "513b0cdf-2b19-4d04-96ee-bda588a9bf64",
   "metadata": {},
   "outputs": [
    {
     "data": {
      "text/plain": [
       "array([[ 1,  2,  7,  8],\n",
       "       [ 3,  4,  9, 10],\n",
       "       [ 5,  6, 11, 12]])"
      ]
     },
     "execution_count": 25,
     "metadata": {},
     "output_type": "execute_result"
    }
   ],
   "source": [
    "vertical_concat = np.concatenate([a,b], axis=1)\n",
    "vertical_concat"
   ]
  },
  {
   "cell_type": "code",
   "execution_count": 26,
   "id": "599f111b-450c-438e-9281-7173b2f0b55b",
   "metadata": {},
   "outputs": [
    {
     "data": {
      "text/plain": [
       "array([[1, 3, 5],\n",
       "       [2, 4, 6]])"
      ]
     },
     "execution_count": 26,
     "metadata": {},
     "output_type": "execute_result"
    }
   ],
   "source": [
    "a.T"
   ]
  },
  {
   "cell_type": "code",
   "execution_count": 27,
   "id": "23d87cad-11e5-4293-b0b5-223c0c6d5335",
   "metadata": {},
   "outputs": [
    {
     "data": {
      "text/plain": [
       "array([[ 5, 11, 17],\n",
       "       [11, 25, 39],\n",
       "       [17, 39, 61]])"
      ]
     },
     "execution_count": 27,
     "metadata": {},
     "output_type": "execute_result"
    }
   ],
   "source": [
    "np.dot(a, a.T)"
   ]
  },
  {
   "cell_type": "raw",
   "id": "7e21dbb6-f406-4756-afde-574f3cc8849c",
   "metadata": {},
   "source": [
    "Pandas"
   ]
  },
  {
   "cell_type": "code",
   "execution_count": 28,
   "id": "53af084a-b8f7-419f-84ff-1107d93c1eed",
   "metadata": {},
   "outputs": [],
   "source": [
    "import pandas as pd"
   ]
  },
  {
   "cell_type": "code",
   "execution_count": 29,
   "id": "ebc7383f-c26f-4c33-a400-d6505d978c89",
   "metadata": {},
   "outputs": [],
   "source": [
    "weather_data = {(\"1/1/2024\",32,6,\"rain\"),\n",
    "               (\"2/1/2024\",35,7,\"sunny\")}"
   ]
  },
  {
   "cell_type": "code",
   "execution_count": 30,
   "id": "836729fe-b83f-4082-a2ce-d99b8bfc2956",
   "metadata": {},
   "outputs": [
    {
     "data": {
      "text/html": [
       "<div>\n",
       "<style scoped>\n",
       "    .dataframe tbody tr th:only-of-type {\n",
       "        vertical-align: middle;\n",
       "    }\n",
       "\n",
       "    .dataframe tbody tr th {\n",
       "        vertical-align: top;\n",
       "    }\n",
       "\n",
       "    .dataframe thead th {\n",
       "        text-align: right;\n",
       "    }\n",
       "</style>\n",
       "<table border=\"1\" class=\"dataframe\">\n",
       "  <thead>\n",
       "    <tr style=\"text-align: right;\">\n",
       "      <th></th>\n",
       "      <th>Date</th>\n",
       "      <th>Temp</th>\n",
       "      <th>Wind</th>\n",
       "      <th>Climate</th>\n",
       "    </tr>\n",
       "  </thead>\n",
       "  <tbody>\n",
       "    <tr>\n",
       "      <th>0</th>\n",
       "      <td>2/1/2024</td>\n",
       "      <td>35</td>\n",
       "      <td>7</td>\n",
       "      <td>sunny</td>\n",
       "    </tr>\n",
       "    <tr>\n",
       "      <th>1</th>\n",
       "      <td>1/1/2024</td>\n",
       "      <td>32</td>\n",
       "      <td>6</td>\n",
       "      <td>rain</td>\n",
       "    </tr>\n",
       "  </tbody>\n",
       "</table>\n",
       "</div>"
      ],
      "text/plain": [
       "       Date  Temp  Wind Climate\n",
       "0  2/1/2024    35     7   sunny\n",
       "1  1/1/2024    32     6    rain"
      ]
     },
     "execution_count": 30,
     "metadata": {},
     "output_type": "execute_result"
    }
   ],
   "source": [
    "df = pd.DataFrame(weather_data, \n",
    "                  columns=[\"Date\",\"Temp\",\"Wind\",\"Climate\"])\n",
    "df"
   ]
  },
  {
   "cell_type": "code",
   "execution_count": 31,
   "id": "c66a0b52-6bb7-46ea-8da8-1e57259a69aa",
   "metadata": {},
   "outputs": [
    {
     "data": {
      "text/plain": [
       "(2, 4)"
      ]
     },
     "execution_count": 31,
     "metadata": {},
     "output_type": "execute_result"
    }
   ],
   "source": [
    "df.shape"
   ]
  },
  {
   "cell_type": "code",
   "execution_count": 32,
   "id": "70de5ed1-8bc6-4678-afcb-02d6093970ff",
   "metadata": {},
   "outputs": [
    {
     "data": {
      "text/plain": [
       "<bound method NDFrame.head of        Date  Temp  Wind Climate\n",
       "0  2/1/2024    35     7   sunny\n",
       "1  1/1/2024    32     6    rain>"
      ]
     },
     "execution_count": 32,
     "metadata": {},
     "output_type": "execute_result"
    }
   ],
   "source": [
    "df.head"
   ]
  },
  {
   "cell_type": "code",
   "execution_count": 33,
   "id": "7de64537-8557-406c-a201-1ec93ac9b63a",
   "metadata": {},
   "outputs": [],
   "source": [
    "df = pd.read_csv(\"auto-mpg.csv\")"
   ]
  },
  {
   "cell_type": "code",
   "execution_count": 37,
   "id": "dbfdd53c-abe9-49e3-9fa5-6a5650974530",
   "metadata": {},
   "outputs": [
    {
     "data": {
      "text/plain": [
       "(398, 9)"
      ]
     },
     "execution_count": 37,
     "metadata": {},
     "output_type": "execute_result"
    }
   ],
   "source": [
    "df.shape"
   ]
  },
  {
   "cell_type": "code",
   "execution_count": 40,
   "id": "7411627b-c32b-4901-9746-aace7331e65f",
   "metadata": {},
   "outputs": [
    {
     "data": {
      "text/html": [
       "<div>\n",
       "<style scoped>\n",
       "    .dataframe tbody tr th:only-of-type {\n",
       "        vertical-align: middle;\n",
       "    }\n",
       "\n",
       "    .dataframe tbody tr th {\n",
       "        vertical-align: top;\n",
       "    }\n",
       "\n",
       "    .dataframe thead th {\n",
       "        text-align: right;\n",
       "    }\n",
       "</style>\n",
       "<table border=\"1\" class=\"dataframe\">\n",
       "  <thead>\n",
       "    <tr style=\"text-align: right;\">\n",
       "      <th></th>\n",
       "      <th>mpg</th>\n",
       "      <th>cylinders</th>\n",
       "      <th>displacement</th>\n",
       "      <th>horsepower</th>\n",
       "      <th>weight</th>\n",
       "      <th>acceleration</th>\n",
       "      <th>model year</th>\n",
       "      <th>origin</th>\n",
       "      <th>car name</th>\n",
       "    </tr>\n",
       "  </thead>\n",
       "  <tbody>\n",
       "    <tr>\n",
       "      <th>0</th>\n",
       "      <td>18.0</td>\n",
       "      <td>8</td>\n",
       "      <td>307.0</td>\n",
       "      <td>130</td>\n",
       "      <td>3504</td>\n",
       "      <td>12.0</td>\n",
       "      <td>70</td>\n",
       "      <td>1</td>\n",
       "      <td>chevrolet chevelle malibu</td>\n",
       "    </tr>\n",
       "    <tr>\n",
       "      <th>1</th>\n",
       "      <td>15.0</td>\n",
       "      <td>8</td>\n",
       "      <td>350.0</td>\n",
       "      <td>165</td>\n",
       "      <td>3693</td>\n",
       "      <td>11.5</td>\n",
       "      <td>70</td>\n",
       "      <td>1</td>\n",
       "      <td>buick skylark 320</td>\n",
       "    </tr>\n",
       "  </tbody>\n",
       "</table>\n",
       "</div>"
      ],
      "text/plain": [
       "    mpg  cylinders  displacement horsepower  weight  acceleration  model year  \\\n",
       "0  18.0          8         307.0        130    3504          12.0          70   \n",
       "1  15.0          8         350.0        165    3693          11.5          70   \n",
       "\n",
       "   origin                   car name  \n",
       "0       1  chevrolet chevelle malibu  \n",
       "1       1          buick skylark 320  "
      ]
     },
     "execution_count": 40,
     "metadata": {},
     "output_type": "execute_result"
    }
   ],
   "source": [
    "df.head(2)"
   ]
  },
  {
   "cell_type": "code",
   "execution_count": 41,
   "id": "c8425337-6e7f-4cf7-bf33-769d53a59e28",
   "metadata": {},
   "outputs": [
    {
     "data": {
      "text/html": [
       "<div>\n",
       "<style scoped>\n",
       "    .dataframe tbody tr th:only-of-type {\n",
       "        vertical-align: middle;\n",
       "    }\n",
       "\n",
       "    .dataframe tbody tr th {\n",
       "        vertical-align: top;\n",
       "    }\n",
       "\n",
       "    .dataframe thead th {\n",
       "        text-align: right;\n",
       "    }\n",
       "</style>\n",
       "<table border=\"1\" class=\"dataframe\">\n",
       "  <thead>\n",
       "    <tr style=\"text-align: right;\">\n",
       "      <th></th>\n",
       "      <th>mpg</th>\n",
       "      <th>cylinders</th>\n",
       "      <th>displacement</th>\n",
       "      <th>horsepower</th>\n",
       "      <th>weight</th>\n",
       "      <th>acceleration</th>\n",
       "      <th>model year</th>\n",
       "      <th>origin</th>\n",
       "      <th>car name</th>\n",
       "    </tr>\n",
       "  </thead>\n",
       "  <tbody>\n",
       "    <tr>\n",
       "      <th>396</th>\n",
       "      <td>28.0</td>\n",
       "      <td>4</td>\n",
       "      <td>120.0</td>\n",
       "      <td>79</td>\n",
       "      <td>2625</td>\n",
       "      <td>18.6</td>\n",
       "      <td>82</td>\n",
       "      <td>1</td>\n",
       "      <td>ford ranger</td>\n",
       "    </tr>\n",
       "    <tr>\n",
       "      <th>397</th>\n",
       "      <td>31.0</td>\n",
       "      <td>4</td>\n",
       "      <td>119.0</td>\n",
       "      <td>82</td>\n",
       "      <td>2720</td>\n",
       "      <td>19.4</td>\n",
       "      <td>82</td>\n",
       "      <td>1</td>\n",
       "      <td>chevy s-10</td>\n",
       "    </tr>\n",
       "  </tbody>\n",
       "</table>\n",
       "</div>"
      ],
      "text/plain": [
       "      mpg  cylinders  displacement horsepower  weight  acceleration  \\\n",
       "396  28.0          4         120.0         79    2625          18.6   \n",
       "397  31.0          4         119.0         82    2720          19.4   \n",
       "\n",
       "     model year  origin     car name  \n",
       "396          82       1  ford ranger  \n",
       "397          82       1   chevy s-10  "
      ]
     },
     "execution_count": 41,
     "metadata": {},
     "output_type": "execute_result"
    }
   ],
   "source": [
    "df.tail(2)"
   ]
  },
  {
   "cell_type": "code",
   "execution_count": 44,
   "id": "1eb59a4f-9fdc-4302-aa3a-99e13d65ea94",
   "metadata": {},
   "outputs": [
    {
     "data": {
      "text/plain": [
       "0      18.0\n",
       "1      15.0\n",
       "2      18.0\n",
       "3      16.0\n",
       "4      17.0\n",
       "       ... \n",
       "393    27.0\n",
       "394    44.0\n",
       "395    32.0\n",
       "396    28.0\n",
       "397    31.0\n",
       "Name: mpg, Length: 398, dtype: float64"
      ]
     },
     "execution_count": 44,
     "metadata": {},
     "output_type": "execute_result"
    }
   ],
   "source": [
    "df[\"mpg\"]"
   ]
  },
  {
   "cell_type": "code",
   "execution_count": 45,
   "id": "f0f2a7cd-adc4-413b-9d5f-2604f898a354",
   "metadata": {},
   "outputs": [
    {
     "data": {
      "text/plain": [
       "0      18.0\n",
       "1      15.0\n",
       "2      18.0\n",
       "3      16.0\n",
       "4      17.0\n",
       "       ... \n",
       "393    27.0\n",
       "394    44.0\n",
       "395    32.0\n",
       "396    28.0\n",
       "397    31.0\n",
       "Name: mpg, Length: 398, dtype: float64"
      ]
     },
     "execution_count": 45,
     "metadata": {},
     "output_type": "execute_result"
    }
   ],
   "source": [
    "df.mpg"
   ]
  },
  {
   "cell_type": "code",
   "execution_count": 50,
   "id": "9e79f1a3-9c64-4bbe-bc73-d26d806e5531",
   "metadata": {},
   "outputs": [
    {
     "data": {
      "text/html": [
       "<div>\n",
       "<style scoped>\n",
       "    .dataframe tbody tr th:only-of-type {\n",
       "        vertical-align: middle;\n",
       "    }\n",
       "\n",
       "    .dataframe tbody tr th {\n",
       "        vertical-align: top;\n",
       "    }\n",
       "\n",
       "    .dataframe thead th {\n",
       "        text-align: right;\n",
       "    }\n",
       "</style>\n",
       "<table border=\"1\" class=\"dataframe\">\n",
       "  <thead>\n",
       "    <tr style=\"text-align: right;\">\n",
       "      <th></th>\n",
       "      <th>mpg</th>\n",
       "      <th>car name</th>\n",
       "    </tr>\n",
       "  </thead>\n",
       "  <tbody>\n",
       "    <tr>\n",
       "      <th>0</th>\n",
       "      <td>18.0</td>\n",
       "      <td>chevrolet chevelle malibu</td>\n",
       "    </tr>\n",
       "    <tr>\n",
       "      <th>1</th>\n",
       "      <td>15.0</td>\n",
       "      <td>buick skylark 320</td>\n",
       "    </tr>\n",
       "    <tr>\n",
       "      <th>2</th>\n",
       "      <td>18.0</td>\n",
       "      <td>plymouth satellite</td>\n",
       "    </tr>\n",
       "    <tr>\n",
       "      <th>3</th>\n",
       "      <td>16.0</td>\n",
       "      <td>amc rebel sst</td>\n",
       "    </tr>\n",
       "    <tr>\n",
       "      <th>4</th>\n",
       "      <td>17.0</td>\n",
       "      <td>ford torino</td>\n",
       "    </tr>\n",
       "    <tr>\n",
       "      <th>...</th>\n",
       "      <td>...</td>\n",
       "      <td>...</td>\n",
       "    </tr>\n",
       "    <tr>\n",
       "      <th>393</th>\n",
       "      <td>27.0</td>\n",
       "      <td>ford mustang gl</td>\n",
       "    </tr>\n",
       "    <tr>\n",
       "      <th>394</th>\n",
       "      <td>44.0</td>\n",
       "      <td>vw pickup</td>\n",
       "    </tr>\n",
       "    <tr>\n",
       "      <th>395</th>\n",
       "      <td>32.0</td>\n",
       "      <td>dodge rampage</td>\n",
       "    </tr>\n",
       "    <tr>\n",
       "      <th>396</th>\n",
       "      <td>28.0</td>\n",
       "      <td>ford ranger</td>\n",
       "    </tr>\n",
       "    <tr>\n",
       "      <th>397</th>\n",
       "      <td>31.0</td>\n",
       "      <td>chevy s-10</td>\n",
       "    </tr>\n",
       "  </tbody>\n",
       "</table>\n",
       "<p>398 rows × 2 columns</p>\n",
       "</div>"
      ],
      "text/plain": [
       "      mpg                   car name\n",
       "0    18.0  chevrolet chevelle malibu\n",
       "1    15.0          buick skylark 320\n",
       "2    18.0         plymouth satellite\n",
       "3    16.0              amc rebel sst\n",
       "4    17.0                ford torino\n",
       "..    ...                        ...\n",
       "393  27.0            ford mustang gl\n",
       "394  44.0                  vw pickup\n",
       "395  32.0              dodge rampage\n",
       "396  28.0                ford ranger\n",
       "397  31.0                 chevy s-10\n",
       "\n",
       "[398 rows x 2 columns]"
      ]
     },
     "execution_count": 50,
     "metadata": {},
     "output_type": "execute_result"
    }
   ],
   "source": [
    "df[[\"mpg\", \"car name\"]]"
   ]
  },
  {
   "cell_type": "code",
   "execution_count": 49,
   "id": "cacee5ba-a361-4ce2-8bc1-ad7dd40adfc7",
   "metadata": {},
   "outputs": [
    {
     "data": {
      "text/plain": [
       "['mpg',\n",
       " 'cylinders',\n",
       " 'displacement',\n",
       " 'horsepower',\n",
       " 'weight',\n",
       " 'acceleration',\n",
       " 'model year',\n",
       " 'origin',\n",
       " 'car name']"
      ]
     },
     "execution_count": 49,
     "metadata": {},
     "output_type": "execute_result"
    }
   ],
   "source": [
    "df.columns.tolist()"
   ]
  },
  {
   "cell_type": "code",
   "execution_count": 39,
   "id": "245e2048-2b95-46c2-9c27-ad45f89848cd",
   "metadata": {},
   "outputs": [
    {
     "data": {
      "text/plain": [
       "<bound method NDFrame.describe of       mpg  cylinders  displacement horsepower  weight  acceleration  \\\n",
       "0    18.0          8         307.0        130    3504          12.0   \n",
       "1    15.0          8         350.0        165    3693          11.5   \n",
       "2    18.0          8         318.0        150    3436          11.0   \n",
       "3    16.0          8         304.0        150    3433          12.0   \n",
       "4    17.0          8         302.0        140    3449          10.5   \n",
       "..    ...        ...           ...        ...     ...           ...   \n",
       "393  27.0          4         140.0         86    2790          15.6   \n",
       "394  44.0          4          97.0         52    2130          24.6   \n",
       "395  32.0          4         135.0         84    2295          11.6   \n",
       "396  28.0          4         120.0         79    2625          18.6   \n",
       "397  31.0          4         119.0         82    2720          19.4   \n",
       "\n",
       "     model year  origin                   car name  \n",
       "0            70       1  chevrolet chevelle malibu  \n",
       "1            70       1          buick skylark 320  \n",
       "2            70       1         plymouth satellite  \n",
       "3            70       1              amc rebel sst  \n",
       "4            70       1                ford torino  \n",
       "..          ...     ...                        ...  \n",
       "393          82       1            ford mustang gl  \n",
       "394          82       2                  vw pickup  \n",
       "395          82       1              dodge rampage  \n",
       "396          82       1                ford ranger  \n",
       "397          82       1                 chevy s-10  \n",
       "\n",
       "[398 rows x 9 columns]>"
      ]
     },
     "execution_count": 39,
     "metadata": {},
     "output_type": "execute_result"
    }
   ],
   "source": [
    "df.describe"
   ]
  },
  {
   "cell_type": "code",
   "execution_count": 51,
   "id": "7731b1fa-3993-4500-bc19-a80db7fbe326",
   "metadata": {},
   "outputs": [],
   "source": [
    "new_df = df[[\"mpg\", \"car name\"]]"
   ]
  },
  {
   "cell_type": "code",
   "execution_count": 55,
   "id": "9fa6eb4e-0be8-420a-8c14-75cf1a6f8483",
   "metadata": {},
   "outputs": [],
   "source": [
    "new_df.to_csv(\"new-auto-mpg.csv\")"
   ]
  },
  {
   "cell_type": "code",
   "execution_count": 56,
   "id": "da04ef24-ee1a-4323-a0c8-c3257a49b227",
   "metadata": {},
   "outputs": [
    {
     "data": {
      "text/html": [
       "<div>\n",
       "<style scoped>\n",
       "    .dataframe tbody tr th:only-of-type {\n",
       "        vertical-align: middle;\n",
       "    }\n",
       "\n",
       "    .dataframe tbody tr th {\n",
       "        vertical-align: top;\n",
       "    }\n",
       "\n",
       "    .dataframe thead th {\n",
       "        text-align: right;\n",
       "    }\n",
       "</style>\n",
       "<table border=\"1\" class=\"dataframe\">\n",
       "  <thead>\n",
       "    <tr style=\"text-align: right;\">\n",
       "      <th></th>\n",
       "      <th>mpg</th>\n",
       "      <th>cylinders</th>\n",
       "      <th>displacement</th>\n",
       "      <th>horsepower</th>\n",
       "      <th>weight</th>\n",
       "      <th>acceleration</th>\n",
       "      <th>model year</th>\n",
       "      <th>origin</th>\n",
       "      <th>car name</th>\n",
       "    </tr>\n",
       "  </thead>\n",
       "  <tbody>\n",
       "    <tr>\n",
       "      <th>184</th>\n",
       "      <td>25.0</td>\n",
       "      <td>4</td>\n",
       "      <td>140.0</td>\n",
       "      <td>92</td>\n",
       "      <td>2572</td>\n",
       "      <td>14.9</td>\n",
       "      <td>76</td>\n",
       "      <td>1</td>\n",
       "      <td>capri ii</td>\n",
       "    </tr>\n",
       "    <tr>\n",
       "      <th>347</th>\n",
       "      <td>37.0</td>\n",
       "      <td>4</td>\n",
       "      <td>85.0</td>\n",
       "      <td>65</td>\n",
       "      <td>1975</td>\n",
       "      <td>19.4</td>\n",
       "      <td>81</td>\n",
       "      <td>3</td>\n",
       "      <td>datsun 210 mpg</td>\n",
       "    </tr>\n",
       "    <tr>\n",
       "      <th>340</th>\n",
       "      <td>25.8</td>\n",
       "      <td>4</td>\n",
       "      <td>156.0</td>\n",
       "      <td>92</td>\n",
       "      <td>2620</td>\n",
       "      <td>14.4</td>\n",
       "      <td>81</td>\n",
       "      <td>1</td>\n",
       "      <td>dodge aries wagon (sw)</td>\n",
       "    </tr>\n",
       "    <tr>\n",
       "      <th>121</th>\n",
       "      <td>15.0</td>\n",
       "      <td>8</td>\n",
       "      <td>318.0</td>\n",
       "      <td>150</td>\n",
       "      <td>3399</td>\n",
       "      <td>11.0</td>\n",
       "      <td>73</td>\n",
       "      <td>1</td>\n",
       "      <td>dodge dart custom</td>\n",
       "    </tr>\n",
       "    <tr>\n",
       "      <th>71</th>\n",
       "      <td>19.0</td>\n",
       "      <td>3</td>\n",
       "      <td>70.0</td>\n",
       "      <td>97</td>\n",
       "      <td>2330</td>\n",
       "      <td>13.5</td>\n",
       "      <td>72</td>\n",
       "      <td>3</td>\n",
       "      <td>mazda rx2 coupe</td>\n",
       "    </tr>\n",
       "    <tr>\n",
       "      <th>269</th>\n",
       "      <td>30.9</td>\n",
       "      <td>4</td>\n",
       "      <td>105.0</td>\n",
       "      <td>75</td>\n",
       "      <td>2230</td>\n",
       "      <td>14.5</td>\n",
       "      <td>78</td>\n",
       "      <td>1</td>\n",
       "      <td>dodge omni</td>\n",
       "    </tr>\n",
       "    <tr>\n",
       "      <th>81</th>\n",
       "      <td>28.0</td>\n",
       "      <td>4</td>\n",
       "      <td>97.0</td>\n",
       "      <td>92</td>\n",
       "      <td>2288</td>\n",
       "      <td>17.0</td>\n",
       "      <td>72</td>\n",
       "      <td>3</td>\n",
       "      <td>datsun 510 (sw)</td>\n",
       "    </tr>\n",
       "    <tr>\n",
       "      <th>34</th>\n",
       "      <td>16.0</td>\n",
       "      <td>6</td>\n",
       "      <td>225.0</td>\n",
       "      <td>105</td>\n",
       "      <td>3439</td>\n",
       "      <td>15.5</td>\n",
       "      <td>71</td>\n",
       "      <td>1</td>\n",
       "      <td>plymouth satellite custom</td>\n",
       "    </tr>\n",
       "    <tr>\n",
       "      <th>260</th>\n",
       "      <td>18.6</td>\n",
       "      <td>6</td>\n",
       "      <td>225.0</td>\n",
       "      <td>110</td>\n",
       "      <td>3620</td>\n",
       "      <td>18.7</td>\n",
       "      <td>78</td>\n",
       "      <td>1</td>\n",
       "      <td>dodge aspen</td>\n",
       "    </tr>\n",
       "    <tr>\n",
       "      <th>395</th>\n",
       "      <td>32.0</td>\n",
       "      <td>4</td>\n",
       "      <td>135.0</td>\n",
       "      <td>84</td>\n",
       "      <td>2295</td>\n",
       "      <td>11.6</td>\n",
       "      <td>82</td>\n",
       "      <td>1</td>\n",
       "      <td>dodge rampage</td>\n",
       "    </tr>\n",
       "  </tbody>\n",
       "</table>\n",
       "</div>"
      ],
      "text/plain": [
       "      mpg  cylinders  displacement horsepower  weight  acceleration  \\\n",
       "184  25.0          4         140.0         92    2572          14.9   \n",
       "347  37.0          4          85.0         65    1975          19.4   \n",
       "340  25.8          4         156.0         92    2620          14.4   \n",
       "121  15.0          8         318.0        150    3399          11.0   \n",
       "71   19.0          3          70.0         97    2330          13.5   \n",
       "269  30.9          4         105.0         75    2230          14.5   \n",
       "81   28.0          4          97.0         92    2288          17.0   \n",
       "34   16.0          6         225.0        105    3439          15.5   \n",
       "260  18.6          6         225.0        110    3620          18.7   \n",
       "395  32.0          4         135.0         84    2295          11.6   \n",
       "\n",
       "     model year  origin                   car name  \n",
       "184          76       1                   capri ii  \n",
       "347          81       3             datsun 210 mpg  \n",
       "340          81       1     dodge aries wagon (sw)  \n",
       "121          73       1          dodge dart custom  \n",
       "71           72       3            mazda rx2 coupe  \n",
       "269          78       1                 dodge omni  \n",
       "81           72       3            datsun 510 (sw)  \n",
       "34           71       1  plymouth satellite custom  \n",
       "260          78       1                dodge aspen  \n",
       "395          82       1              dodge rampage  "
      ]
     },
     "execution_count": 56,
     "metadata": {},
     "output_type": "execute_result"
    }
   ],
   "source": [
    "df.sample(10)"
   ]
  },
  {
   "cell_type": "code",
   "execution_count": 57,
   "id": "1138869c-2cdf-45cd-b011-164f2eb7a26d",
   "metadata": {},
   "outputs": [
    {
     "data": {
      "text/html": [
       "<div>\n",
       "<style scoped>\n",
       "    .dataframe tbody tr th:only-of-type {\n",
       "        vertical-align: middle;\n",
       "    }\n",
       "\n",
       "    .dataframe tbody tr th {\n",
       "        vertical-align: top;\n",
       "    }\n",
       "\n",
       "    .dataframe thead th {\n",
       "        text-align: right;\n",
       "    }\n",
       "</style>\n",
       "<table border=\"1\" class=\"dataframe\">\n",
       "  <thead>\n",
       "    <tr style=\"text-align: right;\">\n",
       "      <th></th>\n",
       "      <th>mpg</th>\n",
       "      <th>cylinders</th>\n",
       "      <th>displacement</th>\n",
       "      <th>horsepower</th>\n",
       "      <th>weight</th>\n",
       "      <th>acceleration</th>\n",
       "      <th>model year</th>\n",
       "      <th>origin</th>\n",
       "      <th>car name</th>\n",
       "    </tr>\n",
       "  </thead>\n",
       "  <tbody>\n",
       "    <tr>\n",
       "      <th>283</th>\n",
       "      <td>20.2</td>\n",
       "      <td>6</td>\n",
       "      <td>232.0</td>\n",
       "      <td>90</td>\n",
       "      <td>3265</td>\n",
       "      <td>18.2</td>\n",
       "      <td>79</td>\n",
       "      <td>1</td>\n",
       "      <td>amc concord dl 6</td>\n",
       "    </tr>\n",
       "    <tr>\n",
       "      <th>100</th>\n",
       "      <td>18.0</td>\n",
       "      <td>6</td>\n",
       "      <td>250.0</td>\n",
       "      <td>88</td>\n",
       "      <td>3021</td>\n",
       "      <td>16.5</td>\n",
       "      <td>73</td>\n",
       "      <td>1</td>\n",
       "      <td>ford maverick</td>\n",
       "    </tr>\n",
       "    <tr>\n",
       "      <th>280</th>\n",
       "      <td>21.5</td>\n",
       "      <td>6</td>\n",
       "      <td>231.0</td>\n",
       "      <td>115</td>\n",
       "      <td>3245</td>\n",
       "      <td>15.4</td>\n",
       "      <td>79</td>\n",
       "      <td>1</td>\n",
       "      <td>pontiac lemans v6</td>\n",
       "    </tr>\n",
       "    <tr>\n",
       "      <th>209</th>\n",
       "      <td>19.0</td>\n",
       "      <td>4</td>\n",
       "      <td>120.0</td>\n",
       "      <td>88</td>\n",
       "      <td>3270</td>\n",
       "      <td>21.9</td>\n",
       "      <td>76</td>\n",
       "      <td>2</td>\n",
       "      <td>peugeot 504</td>\n",
       "    </tr>\n",
       "    <tr>\n",
       "      <th>49</th>\n",
       "      <td>23.0</td>\n",
       "      <td>4</td>\n",
       "      <td>122.0</td>\n",
       "      <td>86</td>\n",
       "      <td>2220</td>\n",
       "      <td>14.0</td>\n",
       "      <td>71</td>\n",
       "      <td>1</td>\n",
       "      <td>mercury capri 2000</td>\n",
       "    </tr>\n",
       "    <tr>\n",
       "      <th>...</th>\n",
       "      <td>...</td>\n",
       "      <td>...</td>\n",
       "      <td>...</td>\n",
       "      <td>...</td>\n",
       "      <td>...</td>\n",
       "      <td>...</td>\n",
       "      <td>...</td>\n",
       "      <td>...</td>\n",
       "      <td>...</td>\n",
       "    </tr>\n",
       "    <tr>\n",
       "      <th>11</th>\n",
       "      <td>14.0</td>\n",
       "      <td>8</td>\n",
       "      <td>340.0</td>\n",
       "      <td>160</td>\n",
       "      <td>3609</td>\n",
       "      <td>8.0</td>\n",
       "      <td>70</td>\n",
       "      <td>1</td>\n",
       "      <td>plymouth 'cuda 340</td>\n",
       "    </tr>\n",
       "    <tr>\n",
       "      <th>143</th>\n",
       "      <td>26.0</td>\n",
       "      <td>4</td>\n",
       "      <td>97.0</td>\n",
       "      <td>78</td>\n",
       "      <td>2300</td>\n",
       "      <td>14.5</td>\n",
       "      <td>74</td>\n",
       "      <td>2</td>\n",
       "      <td>opel manta</td>\n",
       "    </tr>\n",
       "    <tr>\n",
       "      <th>233</th>\n",
       "      <td>29.0</td>\n",
       "      <td>4</td>\n",
       "      <td>97.0</td>\n",
       "      <td>78</td>\n",
       "      <td>1940</td>\n",
       "      <td>14.5</td>\n",
       "      <td>77</td>\n",
       "      <td>2</td>\n",
       "      <td>volkswagen rabbit custom</td>\n",
       "    </tr>\n",
       "    <tr>\n",
       "      <th>380</th>\n",
       "      <td>36.0</td>\n",
       "      <td>4</td>\n",
       "      <td>120.0</td>\n",
       "      <td>88</td>\n",
       "      <td>2160</td>\n",
       "      <td>14.5</td>\n",
       "      <td>82</td>\n",
       "      <td>3</td>\n",
       "      <td>nissan stanza xe</td>\n",
       "    </tr>\n",
       "    <tr>\n",
       "      <th>316</th>\n",
       "      <td>19.1</td>\n",
       "      <td>6</td>\n",
       "      <td>225.0</td>\n",
       "      <td>90</td>\n",
       "      <td>3381</td>\n",
       "      <td>18.7</td>\n",
       "      <td>80</td>\n",
       "      <td>1</td>\n",
       "      <td>dodge aspen</td>\n",
       "    </tr>\n",
       "  </tbody>\n",
       "</table>\n",
       "<p>80 rows × 9 columns</p>\n",
       "</div>"
      ],
      "text/plain": [
       "      mpg  cylinders  displacement horsepower  weight  acceleration  \\\n",
       "283  20.2          6         232.0         90    3265          18.2   \n",
       "100  18.0          6         250.0         88    3021          16.5   \n",
       "280  21.5          6         231.0        115    3245          15.4   \n",
       "209  19.0          4         120.0         88    3270          21.9   \n",
       "49   23.0          4         122.0         86    2220          14.0   \n",
       "..    ...        ...           ...        ...     ...           ...   \n",
       "11   14.0          8         340.0        160    3609           8.0   \n",
       "143  26.0          4          97.0         78    2300          14.5   \n",
       "233  29.0          4          97.0         78    1940          14.5   \n",
       "380  36.0          4         120.0         88    2160          14.5   \n",
       "316  19.1          6         225.0         90    3381          18.7   \n",
       "\n",
       "     model year  origin                  car name  \n",
       "283          79       1          amc concord dl 6  \n",
       "100          73       1             ford maverick  \n",
       "280          79       1         pontiac lemans v6  \n",
       "209          76       2               peugeot 504  \n",
       "49           71       1        mercury capri 2000  \n",
       "..          ...     ...                       ...  \n",
       "11           70       1        plymouth 'cuda 340  \n",
       "143          74       2                opel manta  \n",
       "233          77       2  volkswagen rabbit custom  \n",
       "380          82       3          nissan stanza xe  \n",
       "316          80       1               dodge aspen  \n",
       "\n",
       "[80 rows x 9 columns]"
      ]
     },
     "execution_count": 57,
     "metadata": {},
     "output_type": "execute_result"
    }
   ],
   "source": [
    "df.sample(frac=0.2)"
   ]
  },
  {
   "cell_type": "code",
   "execution_count": 60,
   "id": "478412fc-ef35-4c02-87bc-fb5257afa093",
   "metadata": {},
   "outputs": [
    {
     "data": {
      "text/plain": [
       "<pandas.core.groupby.generic.DataFrameGroupBy object at 0x16a04e1e0>"
      ]
     },
     "execution_count": 60,
     "metadata": {},
     "output_type": "execute_result"
    }
   ],
   "source": [
    "g = df.groupby(\"model year\")\n",
    "g"
   ]
  },
  {
   "cell_type": "code",
   "execution_count": 62,
   "id": "c5d6ad70-1309-4c01-ae21-e19c6898761c",
   "metadata": {},
   "outputs": [
    {
     "data": {
      "text/html": [
       "<div>\n",
       "<style scoped>\n",
       "    .dataframe tbody tr th:only-of-type {\n",
       "        vertical-align: middle;\n",
       "    }\n",
       "\n",
       "    .dataframe tbody tr th {\n",
       "        vertical-align: top;\n",
       "    }\n",
       "\n",
       "    .dataframe thead th {\n",
       "        text-align: right;\n",
       "    }\n",
       "</style>\n",
       "<table border=\"1\" class=\"dataframe\">\n",
       "  <thead>\n",
       "    <tr style=\"text-align: right;\">\n",
       "      <th></th>\n",
       "      <th>mpg</th>\n",
       "      <th>cylinders</th>\n",
       "      <th>displacement</th>\n",
       "      <th>horsepower</th>\n",
       "      <th>weight</th>\n",
       "      <th>acceleration</th>\n",
       "      <th>origin</th>\n",
       "      <th>car name</th>\n",
       "    </tr>\n",
       "    <tr>\n",
       "      <th>model year</th>\n",
       "      <th></th>\n",
       "      <th></th>\n",
       "      <th></th>\n",
       "      <th></th>\n",
       "      <th></th>\n",
       "      <th></th>\n",
       "      <th></th>\n",
       "      <th></th>\n",
       "    </tr>\n",
       "  </thead>\n",
       "  <tbody>\n",
       "    <tr>\n",
       "      <th>70</th>\n",
       "      <td>27.0</td>\n",
       "      <td>8</td>\n",
       "      <td>455.0</td>\n",
       "      <td>97</td>\n",
       "      <td>4732</td>\n",
       "      <td>20.5</td>\n",
       "      <td>3</td>\n",
       "      <td>volkswagen 1131 deluxe sedan</td>\n",
       "    </tr>\n",
       "    <tr>\n",
       "      <th>71</th>\n",
       "      <td>35.0</td>\n",
       "      <td>8</td>\n",
       "      <td>400.0</td>\n",
       "      <td>?</td>\n",
       "      <td>5140</td>\n",
       "      <td>20.5</td>\n",
       "      <td>3</td>\n",
       "      <td>volkswagen model 111</td>\n",
       "    </tr>\n",
       "    <tr>\n",
       "      <th>72</th>\n",
       "      <td>28.0</td>\n",
       "      <td>8</td>\n",
       "      <td>429.0</td>\n",
       "      <td>97</td>\n",
       "      <td>4633</td>\n",
       "      <td>23.5</td>\n",
       "      <td>3</td>\n",
       "      <td>volvo 145e (sw)</td>\n",
       "    </tr>\n",
       "    <tr>\n",
       "      <th>73</th>\n",
       "      <td>29.0</td>\n",
       "      <td>8</td>\n",
       "      <td>455.0</td>\n",
       "      <td>95</td>\n",
       "      <td>4997</td>\n",
       "      <td>21.0</td>\n",
       "      <td>3</td>\n",
       "      <td>volvo 144ea</td>\n",
       "    </tr>\n",
       "    <tr>\n",
       "      <th>74</th>\n",
       "      <td>32.0</td>\n",
       "      <td>8</td>\n",
       "      <td>350.0</td>\n",
       "      <td>?</td>\n",
       "      <td>4699</td>\n",
       "      <td>21.0</td>\n",
       "      <td>3</td>\n",
       "      <td>volkswagen dasher</td>\n",
       "    </tr>\n",
       "    <tr>\n",
       "      <th>75</th>\n",
       "      <td>33.0</td>\n",
       "      <td>8</td>\n",
       "      <td>400.0</td>\n",
       "      <td>98</td>\n",
       "      <td>4668</td>\n",
       "      <td>21.0</td>\n",
       "      <td>3</td>\n",
       "      <td>volvo 244dl</td>\n",
       "    </tr>\n",
       "    <tr>\n",
       "      <th>76</th>\n",
       "      <td>33.0</td>\n",
       "      <td>8</td>\n",
       "      <td>351.0</td>\n",
       "      <td>95</td>\n",
       "      <td>4380</td>\n",
       "      <td>22.2</td>\n",
       "      <td>3</td>\n",
       "      <td>vw rabbit</td>\n",
       "    </tr>\n",
       "    <tr>\n",
       "      <th>77</th>\n",
       "      <td>36.0</td>\n",
       "      <td>8</td>\n",
       "      <td>400.0</td>\n",
       "      <td>98</td>\n",
       "      <td>4335</td>\n",
       "      <td>19.0</td>\n",
       "      <td>3</td>\n",
       "      <td>volkswagen rabbit custom</td>\n",
       "    </tr>\n",
       "    <tr>\n",
       "      <th>78</th>\n",
       "      <td>43.1</td>\n",
       "      <td>8</td>\n",
       "      <td>318.0</td>\n",
       "      <td>97</td>\n",
       "      <td>4080</td>\n",
       "      <td>21.5</td>\n",
       "      <td>3</td>\n",
       "      <td>volvo 264gl</td>\n",
       "    </tr>\n",
       "    <tr>\n",
       "      <th>79</th>\n",
       "      <td>37.3</td>\n",
       "      <td>8</td>\n",
       "      <td>360.0</td>\n",
       "      <td>90</td>\n",
       "      <td>4360</td>\n",
       "      <td>24.8</td>\n",
       "      <td>3</td>\n",
       "      <td>vw rabbit custom</td>\n",
       "    </tr>\n",
       "    <tr>\n",
       "      <th>80</th>\n",
       "      <td>46.6</td>\n",
       "      <td>6</td>\n",
       "      <td>225.0</td>\n",
       "      <td>?</td>\n",
       "      <td>3381</td>\n",
       "      <td>23.7</td>\n",
       "      <td>3</td>\n",
       "      <td>vw rabbit c (diesel)</td>\n",
       "    </tr>\n",
       "    <tr>\n",
       "      <th>81</th>\n",
       "      <td>39.1</td>\n",
       "      <td>8</td>\n",
       "      <td>350.0</td>\n",
       "      <td>?</td>\n",
       "      <td>3725</td>\n",
       "      <td>20.7</td>\n",
       "      <td>3</td>\n",
       "      <td>volvo diesel</td>\n",
       "    </tr>\n",
       "    <tr>\n",
       "      <th>82</th>\n",
       "      <td>44.0</td>\n",
       "      <td>6</td>\n",
       "      <td>262.0</td>\n",
       "      <td>?</td>\n",
       "      <td>3035</td>\n",
       "      <td>24.6</td>\n",
       "      <td>3</td>\n",
       "      <td>vw pickup</td>\n",
       "    </tr>\n",
       "  </tbody>\n",
       "</table>\n",
       "</div>"
      ],
      "text/plain": [
       "             mpg  cylinders  displacement horsepower  weight  acceleration  \\\n",
       "model year                                                                   \n",
       "70          27.0          8         455.0         97    4732          20.5   \n",
       "71          35.0          8         400.0          ?    5140          20.5   \n",
       "72          28.0          8         429.0         97    4633          23.5   \n",
       "73          29.0          8         455.0         95    4997          21.0   \n",
       "74          32.0          8         350.0          ?    4699          21.0   \n",
       "75          33.0          8         400.0         98    4668          21.0   \n",
       "76          33.0          8         351.0         95    4380          22.2   \n",
       "77          36.0          8         400.0         98    4335          19.0   \n",
       "78          43.1          8         318.0         97    4080          21.5   \n",
       "79          37.3          8         360.0         90    4360          24.8   \n",
       "80          46.6          6         225.0          ?    3381          23.7   \n",
       "81          39.1          8         350.0          ?    3725          20.7   \n",
       "82          44.0          6         262.0          ?    3035          24.6   \n",
       "\n",
       "            origin                      car name  \n",
       "model year                                        \n",
       "70               3  volkswagen 1131 deluxe sedan  \n",
       "71               3          volkswagen model 111  \n",
       "72               3               volvo 145e (sw)  \n",
       "73               3                   volvo 144ea  \n",
       "74               3             volkswagen dasher  \n",
       "75               3                   volvo 244dl  \n",
       "76               3                     vw rabbit  \n",
       "77               3      volkswagen rabbit custom  \n",
       "78               3                   volvo 264gl  \n",
       "79               3              vw rabbit custom  \n",
       "80               3          vw rabbit c (diesel)  \n",
       "81               3                  volvo diesel  \n",
       "82               3                     vw pickup  "
      ]
     },
     "execution_count": 62,
     "metadata": {},
     "output_type": "execute_result"
    }
   ],
   "source": [
    "g.max()"
   ]
  },
  {
   "cell_type": "code",
   "execution_count": 74,
   "id": "b9a4b3d2-999a-488b-93f7-4165d1df13aa",
   "metadata": {},
   "outputs": [
    {
     "data": {
      "text/html": [
       "<div>\n",
       "<style scoped>\n",
       "    .dataframe tbody tr th:only-of-type {\n",
       "        vertical-align: middle;\n",
       "    }\n",
       "\n",
       "    .dataframe tbody tr th {\n",
       "        vertical-align: top;\n",
       "    }\n",
       "\n",
       "    .dataframe thead th {\n",
       "        text-align: right;\n",
       "    }\n",
       "</style>\n",
       "<table border=\"1\" class=\"dataframe\">\n",
       "  <thead>\n",
       "    <tr style=\"text-align: right;\">\n",
       "      <th></th>\n",
       "      <th>city</th>\n",
       "      <th>Temp</th>\n",
       "      <th>Humidity</th>\n",
       "    </tr>\n",
       "  </thead>\n",
       "  <tbody>\n",
       "    <tr>\n",
       "      <th>0</th>\n",
       "      <td>NY</td>\n",
       "      <td>21</td>\n",
       "      <td>68</td>\n",
       "    </tr>\n",
       "    <tr>\n",
       "      <th>1</th>\n",
       "      <td>Chicago</td>\n",
       "      <td>15</td>\n",
       "      <td>65</td>\n",
       "    </tr>\n",
       "    <tr>\n",
       "      <th>2</th>\n",
       "      <td>Seatle</td>\n",
       "      <td>35</td>\n",
       "      <td>75</td>\n",
       "    </tr>\n",
       "  </tbody>\n",
       "</table>\n",
       "</div>"
      ],
      "text/plain": [
       "      city  Temp  Humidity\n",
       "0       NY    21        68\n",
       "1  Chicago    15        65\n",
       "2   Seatle    35        75"
      ]
     },
     "execution_count": 74,
     "metadata": {},
     "output_type": "execute_result"
    }
   ],
   "source": [
    "us_weather = pd.DataFrame({\n",
    "    \"city\":[\"NY\",\"Chicago\",\"Seatle\"],\n",
    "    \"Temp\":[21,15,35],\n",
    "    \"Humidity\":[68,65,75]\n",
    "})\n",
    "us_weather"
   ]
  },
  {
   "cell_type": "code",
   "execution_count": 75,
   "id": "017b40e8-dd0c-44ed-8a2f-f30e7072a77f",
   "metadata": {},
   "outputs": [
    {
     "data": {
      "text/html": [
       "<div>\n",
       "<style scoped>\n",
       "    .dataframe tbody tr th:only-of-type {\n",
       "        vertical-align: middle;\n",
       "    }\n",
       "\n",
       "    .dataframe tbody tr th {\n",
       "        vertical-align: top;\n",
       "    }\n",
       "\n",
       "    .dataframe thead th {\n",
       "        text-align: right;\n",
       "    }\n",
       "</style>\n",
       "<table border=\"1\" class=\"dataframe\">\n",
       "  <thead>\n",
       "    <tr style=\"text-align: right;\">\n",
       "      <th></th>\n",
       "      <th>city</th>\n",
       "      <th>Temp</th>\n",
       "      <th>Humidity</th>\n",
       "    </tr>\n",
       "  </thead>\n",
       "  <tbody>\n",
       "    <tr>\n",
       "      <th>0</th>\n",
       "      <td>Kerala</td>\n",
       "      <td>37</td>\n",
       "      <td>64</td>\n",
       "    </tr>\n",
       "    <tr>\n",
       "      <th>1</th>\n",
       "      <td>Goa</td>\n",
       "      <td>21</td>\n",
       "      <td>69</td>\n",
       "    </tr>\n",
       "    <tr>\n",
       "      <th>2</th>\n",
       "      <td>Delhi</td>\n",
       "      <td>35</td>\n",
       "      <td>58</td>\n",
       "    </tr>\n",
       "  </tbody>\n",
       "</table>\n",
       "</div>"
      ],
      "text/plain": [
       "     city  Temp  Humidity\n",
       "0  Kerala    37        64\n",
       "1     Goa    21        69\n",
       "2   Delhi    35        58"
      ]
     },
     "execution_count": 75,
     "metadata": {},
     "output_type": "execute_result"
    }
   ],
   "source": [
    "india_weather = pd.DataFrame({\n",
    "    \"city\":[\"Kerala\",\"Goa\",\"Delhi\"],\n",
    "    \"Temp\":[37,21,35],\n",
    "    \"Humidity\":[64,69,58]\n",
    "})\n",
    "india_weather"
   ]
  },
  {
   "cell_type": "code",
   "execution_count": 76,
   "id": "1b9d9c56-e3e7-46bf-b230-b26af73267bc",
   "metadata": {},
   "outputs": [
    {
     "data": {
      "text/html": [
       "<div>\n",
       "<style scoped>\n",
       "    .dataframe tbody tr th:only-of-type {\n",
       "        vertical-align: middle;\n",
       "    }\n",
       "\n",
       "    .dataframe tbody tr th {\n",
       "        vertical-align: top;\n",
       "    }\n",
       "\n",
       "    .dataframe thead th {\n",
       "        text-align: right;\n",
       "    }\n",
       "</style>\n",
       "<table border=\"1\" class=\"dataframe\">\n",
       "  <thead>\n",
       "    <tr style=\"text-align: right;\">\n",
       "      <th></th>\n",
       "      <th>city</th>\n",
       "      <th>Temp</th>\n",
       "      <th>Humidity</th>\n",
       "    </tr>\n",
       "  </thead>\n",
       "  <tbody>\n",
       "    <tr>\n",
       "      <th>0</th>\n",
       "      <td>NY</td>\n",
       "      <td>21</td>\n",
       "      <td>68</td>\n",
       "    </tr>\n",
       "    <tr>\n",
       "      <th>1</th>\n",
       "      <td>Chicago</td>\n",
       "      <td>15</td>\n",
       "      <td>65</td>\n",
       "    </tr>\n",
       "    <tr>\n",
       "      <th>2</th>\n",
       "      <td>Seatle</td>\n",
       "      <td>35</td>\n",
       "      <td>75</td>\n",
       "    </tr>\n",
       "    <tr>\n",
       "      <th>3</th>\n",
       "      <td>Kerala</td>\n",
       "      <td>37</td>\n",
       "      <td>64</td>\n",
       "    </tr>\n",
       "    <tr>\n",
       "      <th>4</th>\n",
       "      <td>Goa</td>\n",
       "      <td>21</td>\n",
       "      <td>69</td>\n",
       "    </tr>\n",
       "    <tr>\n",
       "      <th>5</th>\n",
       "      <td>Delhi</td>\n",
       "      <td>35</td>\n",
       "      <td>58</td>\n",
       "    </tr>\n",
       "  </tbody>\n",
       "</table>\n",
       "</div>"
      ],
      "text/plain": [
       "      city  Temp  Humidity\n",
       "0       NY    21        68\n",
       "1  Chicago    15        65\n",
       "2   Seatle    35        75\n",
       "3   Kerala    37        64\n",
       "4      Goa    21        69\n",
       "5    Delhi    35        58"
      ]
     },
     "execution_count": 76,
     "metadata": {},
     "output_type": "execute_result"
    }
   ],
   "source": [
    "weather_us_india = pd.concat([us_weather, india_weather], ignore_index=True)\n",
    "weather_us_india"
   ]
  },
  {
   "cell_type": "code",
   "execution_count": 77,
   "id": "b68729bc-fc5b-4316-bbe3-a48e2b860e1f",
   "metadata": {},
   "outputs": [
    {
     "data": {
      "text/plain": [
       "0     True\n",
       "1     True\n",
       "2    False\n",
       "3    False\n",
       "4     True\n",
       "5    False\n",
       "Name: Temp, dtype: bool"
      ]
     },
     "execution_count": 77,
     "metadata": {},
     "output_type": "execute_result"
    }
   ],
   "source": [
    "weather_us_india[\"Temp\"]<30"
   ]
  },
  {
   "cell_type": "code",
   "execution_count": 78,
   "id": "127771a8-979f-41f1-896c-d0a7d23ddbe3",
   "metadata": {},
   "outputs": [
    {
     "data": {
      "text/html": [
       "<div>\n",
       "<style scoped>\n",
       "    .dataframe tbody tr th:only-of-type {\n",
       "        vertical-align: middle;\n",
       "    }\n",
       "\n",
       "    .dataframe tbody tr th {\n",
       "        vertical-align: top;\n",
       "    }\n",
       "\n",
       "    .dataframe thead th {\n",
       "        text-align: right;\n",
       "    }\n",
       "</style>\n",
       "<table border=\"1\" class=\"dataframe\">\n",
       "  <thead>\n",
       "    <tr style=\"text-align: right;\">\n",
       "      <th></th>\n",
       "      <th>city</th>\n",
       "      <th>Temp</th>\n",
       "      <th>Humidity</th>\n",
       "    </tr>\n",
       "  </thead>\n",
       "  <tbody>\n",
       "    <tr>\n",
       "      <th>0</th>\n",
       "      <td>NY</td>\n",
       "      <td>21</td>\n",
       "      <td>68</td>\n",
       "    </tr>\n",
       "    <tr>\n",
       "      <th>1</th>\n",
       "      <td>Chicago</td>\n",
       "      <td>15</td>\n",
       "      <td>65</td>\n",
       "    </tr>\n",
       "    <tr>\n",
       "      <th>4</th>\n",
       "      <td>Goa</td>\n",
       "      <td>21</td>\n",
       "      <td>69</td>\n",
       "    </tr>\n",
       "  </tbody>\n",
       "</table>\n",
       "</div>"
      ],
      "text/plain": [
       "      city  Temp  Humidity\n",
       "0       NY    21        68\n",
       "1  Chicago    15        65\n",
       "4      Goa    21        69"
      ]
     },
     "execution_count": 78,
     "metadata": {},
     "output_type": "execute_result"
    }
   ],
   "source": [
    "weather_us_india[weather_us_india[\"Temp\"]<30]"
   ]
  },
  {
   "cell_type": "code",
   "execution_count": 79,
   "id": "f9ce74b1-2f10-45df-9e2b-c625fcbbfed6",
   "metadata": {},
   "outputs": [
    {
     "data": {
      "text/html": [
       "<div>\n",
       "<style scoped>\n",
       "    .dataframe tbody tr th:only-of-type {\n",
       "        vertical-align: middle;\n",
       "    }\n",
       "\n",
       "    .dataframe tbody tr th {\n",
       "        vertical-align: top;\n",
       "    }\n",
       "\n",
       "    .dataframe thead th {\n",
       "        text-align: right;\n",
       "    }\n",
       "</style>\n",
       "<table border=\"1\" class=\"dataframe\">\n",
       "  <thead>\n",
       "    <tr style=\"text-align: right;\">\n",
       "      <th></th>\n",
       "      <th>city</th>\n",
       "      <th>Temp</th>\n",
       "      <th>Humidity</th>\n",
       "      <th>city</th>\n",
       "      <th>Temp</th>\n",
       "      <th>Humidity</th>\n",
       "    </tr>\n",
       "  </thead>\n",
       "  <tbody>\n",
       "    <tr>\n",
       "      <th>0</th>\n",
       "      <td>NY</td>\n",
       "      <td>21</td>\n",
       "      <td>68</td>\n",
       "      <td>Kerala</td>\n",
       "      <td>37</td>\n",
       "      <td>64</td>\n",
       "    </tr>\n",
       "    <tr>\n",
       "      <th>1</th>\n",
       "      <td>Chicago</td>\n",
       "      <td>15</td>\n",
       "      <td>65</td>\n",
       "      <td>Goa</td>\n",
       "      <td>21</td>\n",
       "      <td>69</td>\n",
       "    </tr>\n",
       "    <tr>\n",
       "      <th>2</th>\n",
       "      <td>Seatle</td>\n",
       "      <td>35</td>\n",
       "      <td>75</td>\n",
       "      <td>Delhi</td>\n",
       "      <td>35</td>\n",
       "      <td>58</td>\n",
       "    </tr>\n",
       "  </tbody>\n",
       "</table>\n",
       "</div>"
      ],
      "text/plain": [
       "      city  Temp  Humidity    city  Temp  Humidity\n",
       "0       NY    21        68  Kerala    37        64\n",
       "1  Chicago    15        65     Goa    21        69\n",
       "2   Seatle    35        75   Delhi    35        58"
      ]
     },
     "execution_count": 79,
     "metadata": {},
     "output_type": "execute_result"
    }
   ],
   "source": [
    "pd.concat([us_weather, india_weather], axis=1)"
   ]
  },
  {
   "cell_type": "code",
   "execution_count": 83,
   "id": "8f190382-a40d-425f-9f22-b18a39454044",
   "metadata": {},
   "outputs": [
    {
     "data": {
      "text/html": [
       "<div>\n",
       "<style scoped>\n",
       "    .dataframe tbody tr th:only-of-type {\n",
       "        vertical-align: middle;\n",
       "    }\n",
       "\n",
       "    .dataframe tbody tr th {\n",
       "        vertical-align: top;\n",
       "    }\n",
       "\n",
       "    .dataframe thead th {\n",
       "        text-align: right;\n",
       "    }\n",
       "</style>\n",
       "<table border=\"1\" class=\"dataframe\">\n",
       "  <thead>\n",
       "    <tr style=\"text-align: right;\">\n",
       "      <th></th>\n",
       "      <th>city_x</th>\n",
       "      <th>Temp</th>\n",
       "      <th>Humidity_x</th>\n",
       "      <th>city_y</th>\n",
       "      <th>Humidity_y</th>\n",
       "    </tr>\n",
       "  </thead>\n",
       "  <tbody>\n",
       "    <tr>\n",
       "      <th>0</th>\n",
       "      <td>NY</td>\n",
       "      <td>21</td>\n",
       "      <td>68</td>\n",
       "      <td>Goa</td>\n",
       "      <td>69</td>\n",
       "    </tr>\n",
       "    <tr>\n",
       "      <th>1</th>\n",
       "      <td>Seatle</td>\n",
       "      <td>35</td>\n",
       "      <td>75</td>\n",
       "      <td>Delhi</td>\n",
       "      <td>58</td>\n",
       "    </tr>\n",
       "  </tbody>\n",
       "</table>\n",
       "</div>"
      ],
      "text/plain": [
       "   city_x  Temp  Humidity_x city_y  Humidity_y\n",
       "0      NY    21          68    Goa          69\n",
       "1  Seatle    35          75  Delhi          58"
      ]
     },
     "execution_count": 83,
     "metadata": {},
     "output_type": "execute_result"
    }
   ],
   "source": [
    "pd.merge(us_weather, india_weather, on=\"Temp\")"
   ]
  },
  {
   "cell_type": "code",
   "execution_count": 88,
   "id": "d5707b45-0a69-4155-a29d-230691b50b5a",
   "metadata": {},
   "outputs": [
    {
     "data": {
      "text/html": [
       "<div>\n",
       "<style scoped>\n",
       "    .dataframe tbody tr th:only-of-type {\n",
       "        vertical-align: middle;\n",
       "    }\n",
       "\n",
       "    .dataframe tbody tr th {\n",
       "        vertical-align: top;\n",
       "    }\n",
       "\n",
       "    .dataframe thead th {\n",
       "        text-align: right;\n",
       "    }\n",
       "</style>\n",
       "<table border=\"1\" class=\"dataframe\">\n",
       "  <thead>\n",
       "    <tr style=\"text-align: right;\">\n",
       "      <th></th>\n",
       "      <th>0</th>\n",
       "    </tr>\n",
       "  </thead>\n",
       "  <tbody>\n",
       "    <tr>\n",
       "      <th>49</th>\n",
       "      <td>1</td>\n",
       "    </tr>\n",
       "    <tr>\n",
       "      <th>48</th>\n",
       "      <td>2</td>\n",
       "    </tr>\n",
       "    <tr>\n",
       "      <th>12</th>\n",
       "      <td>3</td>\n",
       "    </tr>\n",
       "    <tr>\n",
       "      <th>3</th>\n",
       "      <td>4</td>\n",
       "    </tr>\n",
       "  </tbody>\n",
       "</table>\n",
       "</div>"
      ],
      "text/plain": [
       "    0\n",
       "49  1\n",
       "48  2\n",
       "12  3\n",
       "3   4"
      ]
     },
     "execution_count": 88,
     "metadata": {},
     "output_type": "execute_result"
    }
   ],
   "source": [
    "df_index = pd.DataFrame([1,2,3,4], index=[49,48,12,3])\n",
    "df_index"
   ]
  },
  {
   "cell_type": "code",
   "execution_count": 93,
   "id": "86046dbd-71da-42a8-a39a-1c833c4b393e",
   "metadata": {},
   "outputs": [
    {
     "data": {
      "text/plain": [
       "0    1\n",
       "Name: 49, dtype: int64"
      ]
     },
     "execution_count": 93,
     "metadata": {},
     "output_type": "execute_result"
    }
   ],
   "source": [
    "df_index.loc[49]"
   ]
  },
  {
   "cell_type": "code",
   "execution_count": 94,
   "id": "a1039f97-6481-49e1-982a-fee00d9440cd",
   "metadata": {},
   "outputs": [
    {
     "data": {
      "text/plain": [
       "0    3\n",
       "Name: 12, dtype: int64"
      ]
     },
     "execution_count": 94,
     "metadata": {},
     "output_type": "execute_result"
    }
   ],
   "source": [
    "df_index.iloc[2]"
   ]
  },
  {
   "cell_type": "code",
   "execution_count": 103,
   "id": "d649eb6b-2766-4167-9a98-cb8c2af54e30",
   "metadata": {},
   "outputs": [
    {
     "data": {
      "text/plain": [
       "day1    12\n",
       "day2      \n",
       "day3     8\n",
       "day4    -3\n",
       "dtype: object"
      ]
     },
     "execution_count": 103,
     "metadata": {},
     "output_type": "execute_result"
    }
   ],
   "source": [
    "city1 = pd.Series([12, -6,8,-3], index=[\"day1\", \"day2\", \"day3\", \"day4\"])\n",
    "city1"
   ]
  },
  {
   "cell_type": "code",
   "execution_count": 104,
   "id": "b847db28-d766-4f86-9f5d-2eefe8203e81",
   "metadata": {},
   "outputs": [
    {
     "data": {
      "text/plain": [
       "day1    False\n",
       "day2    False\n",
       "day3    False\n",
       "day4    False\n",
       "dtype: bool"
      ]
     },
     "execution_count": 104,
     "metadata": {},
     "output_type": "execute_result"
    }
   ],
   "source": [
    "city1.isna()"
   ]
  },
  {
   "cell_type": "code",
   "execution_count": 97,
   "id": "c4090805-460d-4df3-87a3-582636c6ac2a",
   "metadata": {},
   "outputs": [
    {
     "data": {
      "text/plain": [
       "0"
      ]
     },
     "execution_count": 97,
     "metadata": {},
     "output_type": "execute_result"
    }
   ],
   "source": [
    "city1.isna().sum()"
   ]
  },
  {
   "cell_type": "code",
   "execution_count": 105,
   "id": "75e2a9e7-5639-4019-bed1-a0b449405377",
   "metadata": {},
   "outputs": [
    {
     "data": {
      "text/plain": [
       "array(['chevrolet chevelle malibu', 'buick skylark 320',\n",
       "       'plymouth satellite', 'amc rebel sst', 'ford torino',\n",
       "       'ford galaxie 500', 'chevrolet impala', 'plymouth fury iii',\n",
       "       'pontiac catalina', 'amc ambassador dpl', 'dodge challenger se',\n",
       "       \"plymouth 'cuda 340\", 'chevrolet monte carlo',\n",
       "       'buick estate wagon (sw)', 'toyota corona mark ii',\n",
       "       'plymouth duster', 'amc hornet', 'ford maverick', 'datsun pl510',\n",
       "       'volkswagen 1131 deluxe sedan', 'peugeot 504', 'audi 100 ls',\n",
       "       'saab 99e', 'bmw 2002', 'amc gremlin', 'ford f250', 'chevy c20',\n",
       "       'dodge d200', 'hi 1200d', 'chevrolet vega 2300', 'toyota corona',\n",
       "       'ford pinto', 'plymouth satellite custom', 'ford torino 500',\n",
       "       'amc matador', 'pontiac catalina brougham', 'dodge monaco (sw)',\n",
       "       'ford country squire (sw)', 'pontiac safari (sw)',\n",
       "       'amc hornet sportabout (sw)', 'chevrolet vega (sw)',\n",
       "       'pontiac firebird', 'ford mustang', 'mercury capri 2000',\n",
       "       'opel 1900', 'peugeot 304', 'fiat 124b', 'toyota corolla 1200',\n",
       "       'datsun 1200', 'volkswagen model 111', 'plymouth cricket',\n",
       "       'toyota corona hardtop', 'dodge colt hardtop', 'volkswagen type 3',\n",
       "       'chevrolet vega', 'ford pinto runabout', 'amc ambassador sst',\n",
       "       'mercury marquis', 'buick lesabre custom',\n",
       "       'oldsmobile delta 88 royale', 'chrysler newport royal',\n",
       "       'mazda rx2 coupe', 'amc matador (sw)',\n",
       "       'chevrolet chevelle concours (sw)', 'ford gran torino (sw)',\n",
       "       'plymouth satellite custom (sw)', 'volvo 145e (sw)',\n",
       "       'volkswagen 411 (sw)', 'peugeot 504 (sw)', 'renault 12 (sw)',\n",
       "       'ford pinto (sw)', 'datsun 510 (sw)',\n",
       "       'toyouta corona mark ii (sw)', 'dodge colt (sw)',\n",
       "       'toyota corolla 1600 (sw)', 'buick century 350',\n",
       "       'chevrolet malibu', 'ford gran torino', 'dodge coronet custom',\n",
       "       'mercury marquis brougham', 'chevrolet caprice classic',\n",
       "       'ford ltd', 'plymouth fury gran sedan',\n",
       "       'chrysler new yorker brougham', 'buick electra 225 custom',\n",
       "       'amc ambassador brougham', 'plymouth valiant',\n",
       "       'chevrolet nova custom', 'volkswagen super beetle', 'ford country',\n",
       "       'plymouth custom suburb', 'oldsmobile vista cruiser',\n",
       "       'toyota carina', 'datsun 610', 'maxda rx3', 'mercury capri v6',\n",
       "       'fiat 124 sport coupe', 'chevrolet monte carlo s',\n",
       "       'pontiac grand prix', 'fiat 128', 'opel manta', 'audi 100ls',\n",
       "       'volvo 144ea', 'dodge dart custom', 'saab 99le', 'toyota mark ii',\n",
       "       'oldsmobile omega', 'chevrolet nova', 'datsun b210',\n",
       "       'chevrolet chevelle malibu classic', 'plymouth satellite sebring',\n",
       "       'buick century luxus (sw)', 'dodge coronet custom (sw)',\n",
       "       'audi fox', 'volkswagen dasher', 'datsun 710', 'dodge colt',\n",
       "       'fiat 124 tc', 'honda civic', 'subaru', 'fiat x1.9',\n",
       "       'plymouth valiant custom', 'mercury monarch', 'chevrolet bel air',\n",
       "       'plymouth grand fury', 'buick century',\n",
       "       'chevroelt chevelle malibu', 'plymouth fury', 'buick skyhawk',\n",
       "       'chevrolet monza 2+2', 'ford mustang ii', 'toyota corolla',\n",
       "       'pontiac astro', 'volkswagen rabbit', 'amc pacer', 'volvo 244dl',\n",
       "       'honda civic cvcc', 'fiat 131', 'capri ii', 'renault 12tl',\n",
       "       'dodge coronet brougham', 'chevrolet chevette', 'chevrolet woody',\n",
       "       'vw rabbit', 'dodge aspen se', 'ford granada ghia',\n",
       "       'pontiac ventura sj', 'amc pacer d/l', 'datsun b-210', 'volvo 245',\n",
       "       'plymouth volare premier v8', 'mercedes-benz 280s',\n",
       "       'cadillac seville', 'chevy c10', 'ford f108', 'dodge d100',\n",
       "       'honda accord cvcc', 'buick opel isuzu deluxe', 'renault 5 gtl',\n",
       "       'plymouth arrow gs', 'datsun f-10 hatchback',\n",
       "       'oldsmobile cutlass supreme', 'dodge monaco brougham',\n",
       "       'mercury cougar brougham', 'chevrolet concours', 'buick skylark',\n",
       "       'plymouth volare custom', 'ford granada', 'pontiac grand prix lj',\n",
       "       'chevrolet monte carlo landau', 'chrysler cordoba',\n",
       "       'ford thunderbird', 'volkswagen rabbit custom',\n",
       "       'pontiac sunbird coupe', 'toyota corolla liftback',\n",
       "       'ford mustang ii 2+2', 'dodge colt m/m', 'subaru dl', 'datsun 810',\n",
       "       'bmw 320i', 'mazda rx-4', 'volkswagen rabbit custom diesel',\n",
       "       'ford fiesta', 'mazda glc deluxe', 'datsun b210 gx',\n",
       "       'oldsmobile cutlass salon brougham', 'dodge diplomat',\n",
       "       'mercury monarch ghia', 'pontiac phoenix lj',\n",
       "       'ford fairmont (auto)', 'ford fairmont (man)', 'plymouth volare',\n",
       "       'amc concord', 'buick century special', 'mercury zephyr',\n",
       "       'dodge aspen', 'amc concord d/l',\n",
       "       'buick regal sport coupe (turbo)', 'ford futura',\n",
       "       'dodge magnum xe', 'datsun 510', 'dodge omni',\n",
       "       'toyota celica gt liftback', 'plymouth sapporo',\n",
       "       'oldsmobile starfire sx', 'datsun 200-sx', 'audi 5000',\n",
       "       'volvo 264gl', 'saab 99gle', 'peugeot 604sl',\n",
       "       'volkswagen scirocco', 'honda accord lx', 'pontiac lemans v6',\n",
       "       'mercury zephyr 6', 'ford fairmont 4', 'amc concord dl 6',\n",
       "       'dodge aspen 6', 'ford ltd landau', 'mercury grand marquis',\n",
       "       'dodge st. regis', 'chevrolet malibu classic (sw)',\n",
       "       'chrysler lebaron town @ country (sw)', 'vw rabbit custom',\n",
       "       'maxda glc deluxe', 'dodge colt hatchback custom', 'amc spirit dl',\n",
       "       'mercedes benz 300d', 'cadillac eldorado', 'plymouth horizon',\n",
       "       'plymouth horizon tc3', 'datsun 210', 'fiat strada custom',\n",
       "       'buick skylark limited', 'chevrolet citation',\n",
       "       'oldsmobile omega brougham', 'pontiac phoenix',\n",
       "       'toyota corolla tercel', 'datsun 310', 'ford fairmont',\n",
       "       'audi 4000', 'toyota corona liftback', 'mazda 626',\n",
       "       'datsun 510 hatchback', 'mazda glc', 'vw rabbit c (diesel)',\n",
       "       'vw dasher (diesel)', 'audi 5000s (diesel)', 'mercedes-benz 240d',\n",
       "       'honda civic 1500 gl', 'renault lecar deluxe', 'vokswagen rabbit',\n",
       "       'datsun 280-zx', 'mazda rx-7 gs', 'triumph tr7 coupe',\n",
       "       'ford mustang cobra', 'honda accord', 'plymouth reliant',\n",
       "       'dodge aries wagon (sw)', 'toyota starlet', 'plymouth champ',\n",
       "       'honda civic 1300', 'datsun 210 mpg', 'toyota tercel',\n",
       "       'mazda glc 4', 'plymouth horizon 4', 'ford escort 4w',\n",
       "       'ford escort 2h', 'volkswagen jetta', 'renault 18i',\n",
       "       'honda prelude', 'datsun 200sx', 'peugeot 505s turbo diesel',\n",
       "       'volvo diesel', 'toyota cressida', 'datsun 810 maxima',\n",
       "       'oldsmobile cutlass ls', 'ford granada gl',\n",
       "       'chrysler lebaron salon', 'chevrolet cavalier',\n",
       "       'chevrolet cavalier wagon', 'chevrolet cavalier 2-door',\n",
       "       'pontiac j2000 se hatchback', 'dodge aries se',\n",
       "       'ford fairmont futura', 'amc concord dl', 'volkswagen rabbit l',\n",
       "       'mazda glc custom l', 'mazda glc custom', 'plymouth horizon miser',\n",
       "       'mercury lynx l', 'nissan stanza xe', 'honda civic (auto)',\n",
       "       'datsun 310 gx', 'buick century limited',\n",
       "       'oldsmobile cutlass ciera (diesel)', 'chrysler lebaron medallion',\n",
       "       'ford granada l', 'toyota celica gt', 'dodge charger 2.2',\n",
       "       'chevrolet camaro', 'ford mustang gl', 'vw pickup',\n",
       "       'dodge rampage', 'ford ranger', 'chevy s-10'], dtype=object)"
      ]
     },
     "execution_count": 105,
     "metadata": {},
     "output_type": "execute_result"
    }
   ],
   "source": [
    "df[\"car name\"].unique()"
   ]
  },
  {
   "cell_type": "code",
   "execution_count": 107,
   "id": "da4c4098-5abd-413f-95a6-e225fc02875f",
   "metadata": {},
   "outputs": [
    {
     "data": {
      "text/plain": [
       "cylinders\n",
       "4    204\n",
       "8    103\n",
       "6     84\n",
       "3      4\n",
       "5      3\n",
       "Name: count, dtype: int64"
      ]
     },
     "execution_count": 107,
     "metadata": {},
     "output_type": "execute_result"
    }
   ],
   "source": [
    "df[\"cylinders\"].value_counts()"
   ]
  },
  {
   "cell_type": "code",
   "execution_count": 112,
   "id": "c79407be-cd44-45d1-986e-acd49444b2c9",
   "metadata": {},
   "outputs": [
    {
     "data": {
      "text/html": [
       "<div>\n",
       "<style scoped>\n",
       "    .dataframe tbody tr th:only-of-type {\n",
       "        vertical-align: middle;\n",
       "    }\n",
       "\n",
       "    .dataframe tbody tr th {\n",
       "        vertical-align: top;\n",
       "    }\n",
       "\n",
       "    .dataframe thead th {\n",
       "        text-align: right;\n",
       "    }\n",
       "</style>\n",
       "<table border=\"1\" class=\"dataframe\">\n",
       "  <thead>\n",
       "    <tr style=\"text-align: right;\">\n",
       "      <th></th>\n",
       "      <th>mpg</th>\n",
       "      <th>cylinders</th>\n",
       "      <th>displacement</th>\n",
       "      <th>horsepower</th>\n",
       "      <th>weight</th>\n",
       "      <th>acceleration</th>\n",
       "      <th>model year</th>\n",
       "    </tr>\n",
       "  </thead>\n",
       "  <tbody>\n",
       "    <tr>\n",
       "      <th>0</th>\n",
       "      <td>18.0</td>\n",
       "      <td>8</td>\n",
       "      <td>307.0</td>\n",
       "      <td>130</td>\n",
       "      <td>3504</td>\n",
       "      <td>12.0</td>\n",
       "      <td>70</td>\n",
       "    </tr>\n",
       "    <tr>\n",
       "      <th>1</th>\n",
       "      <td>15.0</td>\n",
       "      <td>8</td>\n",
       "      <td>350.0</td>\n",
       "      <td>165</td>\n",
       "      <td>3693</td>\n",
       "      <td>11.5</td>\n",
       "      <td>70</td>\n",
       "    </tr>\n",
       "    <tr>\n",
       "      <th>2</th>\n",
       "      <td>18.0</td>\n",
       "      <td>8</td>\n",
       "      <td>318.0</td>\n",
       "      <td>150</td>\n",
       "      <td>3436</td>\n",
       "      <td>11.0</td>\n",
       "      <td>70</td>\n",
       "    </tr>\n",
       "    <tr>\n",
       "      <th>3</th>\n",
       "      <td>16.0</td>\n",
       "      <td>8</td>\n",
       "      <td>304.0</td>\n",
       "      <td>150</td>\n",
       "      <td>3433</td>\n",
       "      <td>12.0</td>\n",
       "      <td>70</td>\n",
       "    </tr>\n",
       "    <tr>\n",
       "      <th>4</th>\n",
       "      <td>17.0</td>\n",
       "      <td>8</td>\n",
       "      <td>302.0</td>\n",
       "      <td>140</td>\n",
       "      <td>3449</td>\n",
       "      <td>10.5</td>\n",
       "      <td>70</td>\n",
       "    </tr>\n",
       "    <tr>\n",
       "      <th>...</th>\n",
       "      <td>...</td>\n",
       "      <td>...</td>\n",
       "      <td>...</td>\n",
       "      <td>...</td>\n",
       "      <td>...</td>\n",
       "      <td>...</td>\n",
       "      <td>...</td>\n",
       "    </tr>\n",
       "    <tr>\n",
       "      <th>393</th>\n",
       "      <td>27.0</td>\n",
       "      <td>4</td>\n",
       "      <td>140.0</td>\n",
       "      <td>86</td>\n",
       "      <td>2790</td>\n",
       "      <td>15.6</td>\n",
       "      <td>82</td>\n",
       "    </tr>\n",
       "    <tr>\n",
       "      <th>394</th>\n",
       "      <td>44.0</td>\n",
       "      <td>4</td>\n",
       "      <td>97.0</td>\n",
       "      <td>52</td>\n",
       "      <td>2130</td>\n",
       "      <td>24.6</td>\n",
       "      <td>82</td>\n",
       "    </tr>\n",
       "    <tr>\n",
       "      <th>395</th>\n",
       "      <td>32.0</td>\n",
       "      <td>4</td>\n",
       "      <td>135.0</td>\n",
       "      <td>84</td>\n",
       "      <td>2295</td>\n",
       "      <td>11.6</td>\n",
       "      <td>82</td>\n",
       "    </tr>\n",
       "    <tr>\n",
       "      <th>396</th>\n",
       "      <td>28.0</td>\n",
       "      <td>4</td>\n",
       "      <td>120.0</td>\n",
       "      <td>79</td>\n",
       "      <td>2625</td>\n",
       "      <td>18.6</td>\n",
       "      <td>82</td>\n",
       "    </tr>\n",
       "    <tr>\n",
       "      <th>397</th>\n",
       "      <td>31.0</td>\n",
       "      <td>4</td>\n",
       "      <td>119.0</td>\n",
       "      <td>82</td>\n",
       "      <td>2720</td>\n",
       "      <td>19.4</td>\n",
       "      <td>82</td>\n",
       "    </tr>\n",
       "  </tbody>\n",
       "</table>\n",
       "<p>398 rows × 7 columns</p>\n",
       "</div>"
      ],
      "text/plain": [
       "      mpg  cylinders  displacement horsepower  weight  acceleration  \\\n",
       "0    18.0          8         307.0        130    3504          12.0   \n",
       "1    15.0          8         350.0        165    3693          11.5   \n",
       "2    18.0          8         318.0        150    3436          11.0   \n",
       "3    16.0          8         304.0        150    3433          12.0   \n",
       "4    17.0          8         302.0        140    3449          10.5   \n",
       "..    ...        ...           ...        ...     ...           ...   \n",
       "393  27.0          4         140.0         86    2790          15.6   \n",
       "394  44.0          4          97.0         52    2130          24.6   \n",
       "395  32.0          4         135.0         84    2295          11.6   \n",
       "396  28.0          4         120.0         79    2625          18.6   \n",
       "397  31.0          4         119.0         82    2720          19.4   \n",
       "\n",
       "     model year  \n",
       "0            70  \n",
       "1            70  \n",
       "2            70  \n",
       "3            70  \n",
       "4            70  \n",
       "..          ...  \n",
       "393          82  \n",
       "394          82  \n",
       "395          82  \n",
       "396          82  \n",
       "397          82  \n",
       "\n",
       "[398 rows x 7 columns]"
      ]
     },
     "execution_count": 112,
     "metadata": {},
     "output_type": "execute_result"
    }
   ],
   "source": [
    "new_cars = df.drop([\"origin\",\"car name\"], axis=1)\n",
    "new_cars"
   ]
  },
  {
   "cell_type": "code",
   "execution_count": null,
   "id": "fa52a49e-10b6-402c-85a6-b679beb64e62",
   "metadata": {},
   "outputs": [],
   "source": []
  }
 ],
 "metadata": {
  "kernelspec": {
   "display_name": "Python 3 (ipykernel)",
   "language": "python",
   "name": "python3"
  },
  "language_info": {
   "codemirror_mode": {
    "name": "ipython",
    "version": 3
   },
   "file_extension": ".py",
   "mimetype": "text/x-python",
   "name": "python",
   "nbconvert_exporter": "python",
   "pygments_lexer": "ipython3",
   "version": "3.12.7"
  }
 },
 "nbformat": 4,
 "nbformat_minor": 5
}
