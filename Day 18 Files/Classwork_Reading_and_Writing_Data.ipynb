{
  "nbformat": 4,
  "nbformat_minor": 0,
  "metadata": {
    "colab": {
      "provenance": []
    },
    "kernelspec": {
      "name": "python3",
      "display_name": "Python 3"
    },
    "language_info": {
      "name": "python"
    }
  },
  "cells": [
    {
      "cell_type": "markdown",
      "source": [
        "# File Handling"
      ],
      "metadata": {
        "id": "Zy9n70h6qajg"
      }
    },
    {
      "cell_type": "markdown",
      "source": [
        "## Opening and Closing a File"
      ],
      "metadata": {
        "id": "s-OqI_O4qk0P"
      }
    },
    {
      "cell_type": "code",
      "source": [
        "file = open(\"example.txt\", \"r\")\n",
        "print(file.read())\n",
        "file.close()"
      ],
      "metadata": {
        "id": "vr7oirKXqgrZ"
      },
      "execution_count": null,
      "outputs": []
    },
    {
      "cell_type": "code",
      "source": [
        "import os\n",
        "os.getcwd()"
      ],
      "metadata": {
        "id": "U3owUNeBjo2k"
      },
      "execution_count": null,
      "outputs": []
    },
    {
      "cell_type": "markdown",
      "source": [
        "## Reading Files"
      ],
      "metadata": {
        "id": "N5n1Yh4qqtQ8"
      }
    },
    {
      "cell_type": "code",
      "source": [
        "import os\n",
        "\n",
        "with open(os.path.join(\"Data\",\"example.txt\"), \"r\") as file:\n",
        "    content = file.read()\n",
        "    print(content)"
      ],
      "metadata": {
        "id": "NezsOHbKqurg"
      },
      "execution_count": null,
      "outputs": []
    },
    {
      "cell_type": "code",
      "source": [
        "with open(\"example.txt\", \"r\") as file:\n",
        "    for line in file:\n",
        "        print(line.strip())"
      ],
      "metadata": {
        "id": "yCGx452Xq1n_"
      },
      "execution_count": null,
      "outputs": []
    },
    {
      "cell_type": "code",
      "source": [
        "with open(\"example.txt\", \"r\") as file:\n",
        "    print(file.read(10))"
      ],
      "metadata": {
        "id": "fqcohEdUq5Gt"
      },
      "execution_count": null,
      "outputs": []
    },
    {
      "cell_type": "markdown",
      "source": [
        "## Writing to a File"
      ],
      "metadata": {
        "id": "734JDyUNq8fH"
      }
    },
    {
      "cell_type": "markdown",
      "source": [
        "## File Modes\n",
        "\n",
        "| Mode  | Description                         |\n",
        "|-------|-------------------------------------|\n",
        "| `r`   | Open a file for reading (default).  |\n",
        "| `w`   | Open a file for writing (creates a new file or overwrites if it exists). |\n",
        "| `a`   | Open a file for appending (creates a new file if it doesn't exist). |\n",
        "| `r+`  | Open a file for both reading and writing. |\n",
        "| `w+`  | Open a file for both reading and writing (overwrites file if it exists). |\n",
        "| `a+`  | Open a file for both appending and reading. |\n",
        "| `b`   | Open a file in binary mode.         |\n",
        "| `t`   | Open a file in text mode (default). |\n",
        "| `x`   | Create a new file and open it for writing (fails if the file exists). |\n"
      ],
      "metadata": {
        "id": "NUiJ6kCzresq"
      }
    },
    {
      "cell_type": "markdown",
      "source": [
        "## Overwrite File Content"
      ],
      "metadata": {
        "id": "LegNt1SrrD5u"
      }
    },
    {
      "cell_type": "code",
      "source": [
        "with open(\"example.txt\", \"w\") as file:\n",
        "    file.write(\"This is new content.\")"
      ],
      "metadata": {
        "id": "DmZ0Ca5rrAgs"
      },
      "execution_count": null,
      "outputs": []
    },
    {
      "cell_type": "markdown",
      "source": [
        "## Append to a File"
      ],
      "metadata": {
        "id": "td_6RXElrIm2"
      }
    },
    {
      "cell_type": "code",
      "source": [
        "with open(\"example.txt\", \"a\") as file:\n",
        "    file.write(\"\\nThis is additional content.\")"
      ],
      "metadata": {
        "id": "5zWgVNBfrBn2"
      },
      "execution_count": null,
      "outputs": []
    },
    {
      "cell_type": "markdown",
      "source": [
        "## Writing Binary Data"
      ],
      "metadata": {
        "id": "PVu5VMlQrTMd"
      }
    },
    {
      "cell_type": "code",
      "source": [
        "with open(\"example.bin\", \"wb\") as file:\n",
        "    file.write(b\"This is binary data.\")"
      ],
      "metadata": {
        "id": "SDq31-ZTrVCM"
      },
      "execution_count": null,
      "outputs": []
    },
    {
      "cell_type": "markdown",
      "source": [
        "## Reading Binary Data"
      ],
      "metadata": {
        "id": "-bdgjDXqrXzU"
      }
    },
    {
      "cell_type": "code",
      "source": [
        "with open(\"example.bin\", \"rb\") as file:\n",
        "    binary_data = file.read()\n",
        "    print(binary_data)"
      ],
      "metadata": {
        "id": "psLDtRvqrZ-v"
      },
      "execution_count": null,
      "outputs": []
    },
    {
      "cell_type": "markdown",
      "source": [
        "## Checking if File Exists"
      ],
      "metadata": {
        "id": "9aHquDcErda-"
      }
    },
    {
      "cell_type": "code",
      "source": [
        "import os\n",
        "\n",
        "if os.path.exists(\"example.txt\"):\n",
        "    print(\"File exists.\")\n",
        "else:\n",
        "    print(\"File does not exist.\")"
      ],
      "metadata": {
        "colab": {
          "base_uri": "https://localhost:8080/"
        },
        "id": "vAhUFCVsr4qx",
        "outputId": "9f606e71-3016-4304-b238-d04597c4d166"
      },
      "execution_count": null,
      "outputs": [
        {
          "output_type": "stream",
          "name": "stdout",
          "text": [
            "File does not exist.\n"
          ]
        }
      ]
    },
    {
      "cell_type": "markdown",
      "source": [
        "## Deleting File"
      ],
      "metadata": {
        "id": "gnJvMb2lr9Hq"
      }
    },
    {
      "cell_type": "code",
      "source": [
        "import os\n",
        "\n",
        "if os.path.exists(\"example.txt\"):\n",
        "    os.remove(\"example.txt\")\n",
        "    print(\"File deleted.\")\n",
        "else:\n",
        "    print(\"File does not exist.\")"
      ],
      "metadata": {
        "id": "1Zm3_8ndr_B_"
      },
      "execution_count": null,
      "outputs": []
    },
    {
      "cell_type": "markdown",
      "source": [
        "# CSV files"
      ],
      "metadata": {
        "id": "bpTkubKMpWMZ"
      }
    },
    {
      "cell_type": "markdown",
      "source": [
        "## Reading and Writing CSV Files"
      ],
      "metadata": {
        "id": "S9R0_th1phKA"
      }
    },
    {
      "cell_type": "code",
      "execution_count": null,
      "metadata": {
        "id": "r3THwBOGpP9F"
      },
      "outputs": [],
      "source": [
        "import pandas as pd\n",
        "df = pd.read_csv('data.csv')\n",
        "print(df.head())"
      ]
    },
    {
      "cell_type": "markdown",
      "source": [
        "## Reading and Writing Excel Files"
      ],
      "metadata": {
        "id": "BCWITkmopblI"
      }
    },
    {
      "cell_type": "code",
      "source": [
        "df = pd.read_excel('data.xlsx', sheet_name='Sheet1')\n",
        "print(df.head())\n",
        "\n",
        "df.to_excel(\"output.xlsx\", sheet_name='Sheet2')"
      ],
      "metadata": {
        "id": "QoZIvfoXpX7_"
      },
      "execution_count": null,
      "outputs": []
    },
    {
      "cell_type": "markdown",
      "source": [
        "# JSON Files"
      ],
      "metadata": {
        "id": "zdDkzXjGpyWS"
      }
    },
    {
      "cell_type": "code",
      "source": [
        "df_json = pd.read_json('data.json')\n",
        "print(df_json.head())"
      ],
      "metadata": {
        "id": "eU0AMzkMpwO9"
      },
      "execution_count": null,
      "outputs": []
    },
    {
      "cell_type": "markdown",
      "source": [
        "# SQL Databases"
      ],
      "metadata": {
        "id": "T0PnPOAgqAsX"
      }
    },
    {
      "cell_type": "code",
      "source": [
        "import sqlite3\n",
        "conn = sqlite3.connect('example.db')\n",
        "df_sql = pd.read_sql_query(\"SELECT * FROM table_name\", conn)\n",
        "print(df_sql.head())"
      ],
      "metadata": {
        "id": "6HyNcuG-qDJ1"
      },
      "execution_count": null,
      "outputs": []
    },
    {
      "cell_type": "markdown",
      "source": [
        "# API"
      ],
      "metadata": {
        "id": "Ktk9UU8hqHHC"
      }
    },
    {
      "cell_type": "code",
      "source": [
        "import requests\n",
        "response = requests.get('https://api.example.com/data')\n",
        "data = response.json()\n",
        "df_api = pd.DataFrame(data)\n",
        "print(df_api.head())"
      ],
      "metadata": {
        "id": "mnlPUPY8qIT2"
      },
      "execution_count": null,
      "outputs": []
    },
    {
      "cell_type": "markdown",
      "source": [
        "## Numpy File Handling"
      ],
      "metadata": {
        "id": "gDyyVJySsY_m"
      }
    },
    {
      "cell_type": "markdown",
      "source": [
        "## Saving NumPy Arrays\n",
        "You can save arrays in both binary .npy format and compressed .npz format."
      ],
      "metadata": {
        "id": "DzGth72CsgdF"
      }
    },
    {
      "cell_type": "code",
      "source": [
        "import numpy as np\n",
        "\n",
        "array = np.array([1, 2, 3, 4, 5])\n",
        "\n",
        "np.save(\"array.npy\", array)\n",
        "print(\"Array saved as 'array.npy'\")"
      ],
      "metadata": {
        "id": "PjZ3Kk6Csc7a"
      },
      "execution_count": null,
      "outputs": []
    },
    {
      "cell_type": "code",
      "source": [
        "array1 = np.array([1, 2, 3])\n",
        "array2 = np.array([4, 5, 6])\n",
        "\n",
        "np.savez(\"arrays.npz\", array1=array1, array2=array2)\n",
        "print(\"Arrays saved as 'arrays.npz'\")"
      ],
      "metadata": {
        "id": "i6t9KMxnsoXQ"
      },
      "execution_count": null,
      "outputs": []
    },
    {
      "cell_type": "markdown",
      "source": [
        "## Loading NumPy Files"
      ],
      "metadata": {
        "id": "ho-DekPEsyCE"
      }
    },
    {
      "cell_type": "code",
      "source": [
        "loaded_array = np.load(\"array.npy\")\n",
        "print(\"Loaded array:\", loaded_array)\n",
        "\n",
        "loaded_arrays = np.load(\"arrays.npz\")\n",
        "print(\"Array1:\", loaded_arrays['array1'])\n",
        "print(\"Array2:\", loaded_arrays['array2'])"
      ],
      "metadata": {
        "id": "hae8lXMvszVl"
      },
      "execution_count": null,
      "outputs": []
    },
    {
      "cell_type": "markdown",
      "source": [
        "## Text Files with Numpy"
      ],
      "metadata": {
        "id": "YoSLz6xLtAuB"
      }
    },
    {
      "cell_type": "code",
      "source": [
        "np.savetxt(\"array.txt\", array, delimiter=\",\")\n",
        "print(\"Array saved as 'array.txt'\")\n",
        "\n",
        "loaded_array_txt = np.loadtxt(\"array.txt\", delimiter=\",\")\n",
        "print(\"Loaded array from text file:\", loaded_array_txt)"
      ],
      "metadata": {
        "id": "8xFOgUJAtDa1"
      },
      "execution_count": null,
      "outputs": []
    },
    {
      "cell_type": "markdown",
      "source": [
        "# Python os Library: Tutorial and Best Practices\n",
        "\n",
        "The os library in Python provides a way to interact with the operating system, such as file and directory operations, environment variables, and more."
      ],
      "metadata": {
        "id": "WkzjMONmtsLP"
      }
    },
    {
      "cell_type": "markdown",
      "source": [
        "## Importing the Library"
      ],
      "metadata": {
        "id": "M1JIHiyBt0UJ"
      }
    },
    {
      "cell_type": "code",
      "source": [
        "import os"
      ],
      "metadata": {
        "id": "xTP0xB99tJfx"
      },
      "execution_count": null,
      "outputs": []
    },
    {
      "cell_type": "markdown",
      "source": [
        "##  File and Directory Operations"
      ],
      "metadata": {
        "id": "LexEaLknt5dB"
      }
    },
    {
      "cell_type": "code",
      "source": [
        "# Get Current Working Directory\n",
        "cwd = os.getcwd()\n",
        "print(f\"Current Working Directory: {cwd}\")\n",
        "\n",
        "# Change Directory\n",
        "os.chdir('/path/to/directory')\n",
        "print(f\"Changed to: {os.getcwd()}\")\n",
        "\n",
        "# Create a Directory\n",
        "os.mkdir('new_folder')\n",
        "os.makedirs('new_folder/sub_folder')\n",
        "\n",
        "# Remove a Directory\n",
        "os.rmdir('new_folder')\n",
        "os.removedirs('new_folder/sub_folder')\n",
        "\n",
        "# List Files in a Directory\n",
        "files = os.listdir('.')\n",
        "print(\"Files in current directory:\", files)\n",
        "\n",
        "# Check if a Path Exists\n",
        "if os.path.exists('example.txt'):\n",
        "    print(\"File exists\")\n",
        "else:\n",
        "    print(\"File does not exist\")\n",
        "\n",
        "# Rename a File or Directory\n",
        "os.rename('old_name.txt', 'new_name.txt')\n",
        "\n",
        "# Delete a File\n",
        "os.remove('example.txt')"
      ],
      "metadata": {
        "id": "cofmgcCRt3Tt"
      },
      "execution_count": null,
      "outputs": []
    },
    {
      "cell_type": "markdown",
      "source": [
        "## File Path Operations"
      ],
      "metadata": {
        "id": "hudmK8Dyuwlb"
      }
    },
    {
      "cell_type": "code",
      "source": [
        "# Join Paths\n",
        "full_path = os.path.join('folder', 'subfolder', 'file.txt')\n",
        "print(f\"Full Path: {full_path}\")\n",
        "\n",
        "# Split Path\n",
        "path, file = os.path.split('/folder/file.txt')\n",
        "print(f\"Path: {path}, File: {file}\")\n",
        "\n",
        "# Get File Extension\n",
        "filename, extension = os.path.splitext('file.txt')\n",
        "print(f\"Filename: {filename}, Extension: {extension}\")\n",
        "\n",
        "# Get Absolute Path\n",
        "absolute_path = os.path.abspath('example.txt')\n",
        "print(f\"Absolute Path: {absolute_path}\")"
      ],
      "metadata": {
        "id": "4FBFUx6Kuyk6"
      },
      "execution_count": null,
      "outputs": []
    },
    {
      "cell_type": "markdown",
      "source": [
        "## Running System Commands"
      ],
      "metadata": {
        "id": "_GeFM06zvGgM"
      }
    },
    {
      "cell_type": "code",
      "source": [
        "os.system('ls')  # For Unix/Linux/Mac\n",
        "os.system('dir')  # For Windows\n",
        "\n",
        "\n",
        "import subprocess\n",
        "subprocess.run(['ls', '-l'])  # Safer than os.system('ls -l')\n",
        "\n",
        "# Exception Handling\n",
        "try:\n",
        "    os.mkdir('folder')\n",
        "except FileExistsError:\n",
        "    print(\"Directory already exists\")\n"
      ],
      "metadata": {
        "id": "F_fTaj2HvIjS"
      },
      "execution_count": null,
      "outputs": []
    },
    {
      "cell_type": "markdown",
      "source": [
        "# PyYAML"
      ],
      "metadata": {
        "id": "WHmumLFIasmK"
      }
    },
    {
      "cell_type": "code",
      "source": [
        "import yaml\n",
        "\n",
        "with open(os.path.join(CONFIG_PATH, \"config.yaml\")) as file:\n",
        "        config = yaml.safe_load(file)\n",
        "\n",
        "# Config.yaml will contain info like\n",
        "# min_threshold: 0.6\n",
        "# moisture_threshold: 16000"
      ],
      "metadata": {
        "id": "nejUI9QtavLQ"
      },
      "execution_count": null,
      "outputs": []
    },
    {
      "cell_type": "markdown",
      "source": [
        "# Working with Images"
      ],
      "metadata": {
        "id": "-xkYsKJRbfdK"
      }
    },
    {
      "cell_type": "code",
      "source": [
        "!pip install pillow opencv-python matplotlib\n",
        "\n",
        "from PIL import Image\n",
        "\n",
        "image = Image.open(\"example.jpg\")\n",
        "\n",
        "image.show()"
      ],
      "metadata": {
        "id": "ZMOKGETlbDLg"
      },
      "execution_count": null,
      "outputs": []
    },
    {
      "cell_type": "markdown",
      "source": [
        "# Working with Audio Files"
      ],
      "metadata": {
        "id": "BZiOCM82bqku"
      }
    },
    {
      "cell_type": "code",
      "source": [],
      "metadata": {
        "id": "Du3LRbaKbpeg"
      },
      "execution_count": null,
      "outputs": []
    }
  ]
}