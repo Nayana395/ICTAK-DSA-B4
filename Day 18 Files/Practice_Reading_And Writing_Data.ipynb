{
 "cells": [
  {
   "cell_type": "code",
   "execution_count": 11,
   "id": "76f8fc6d-7119-4b02-af81-71c2f44f22e7",
   "metadata": {},
   "outputs": [
    {
     "name": "stdout",
     "output_type": "stream",
     "text": [
      "Hi, This is a sample text file to implement file reading method in python.\n",
      "This is the second line of the text\n",
      "this is the third line of the text\n"
     ]
    }
   ],
   "source": [
    "# opening and closing a file\n",
    "file = open(\"sample.txt\",\"r\")\n",
    "print(file.read())\n",
    "file.close()"
   ]
  },
  {
   "cell_type": "code",
   "execution_count": 12,
   "id": "9ec1e910-50ec-40ec-a890-d6d655144bad",
   "metadata": {},
   "outputs": [
    {
     "name": "stdout",
     "output_type": "stream",
     "text": [
      "Hi, This is a sample text file to implement file reading method in python.\n",
      "This is the second line of the text\n",
      "this is the third line of the text\n"
     ]
    }
   ],
   "source": [
    "# Ideal way to store the read data\n",
    "with open(\"sample.txt\",\"r\") as file:\n",
    "    data = file.read()\n",
    "    print(data)"
   ]
  },
  {
   "cell_type": "code",
   "execution_count": 13,
   "id": "975fe73f-e4a1-450c-bdfd-ffaddf160091",
   "metadata": {},
   "outputs": [
    {
     "name": "stdout",
     "output_type": "stream",
     "text": [
      "Hi, This is a sample text file to implement file reading method in python. *\n",
      "#\n",
      "This is the second line of the text *\n",
      "#\n",
      "this is the third line of the text *\n",
      "#\n"
     ]
    }
   ],
   "source": [
    "# using for loop to print line by line\n",
    "with open(\"sample.txt\",\"r\") as file:\n",
    "    for line in file:\n",
    "        print(line.strip(), \"*\\n#\")"
   ]
  },
  {
   "cell_type": "code",
   "execution_count": 14,
   "id": "55469aa0-e035-4d8f-86b8-e45396bf75f1",
   "metadata": {},
   "outputs": [
    {
     "name": "stdout",
     "output_type": "stream",
     "text": [
      "File path:  Data/Text/sample.txt \n",
      "\n",
      "Hi, This is a sample text file to implement file os.path.join() in python. *\n",
      "#\n",
      "This is a different second line of the text *\n",
      "#\n",
      "this is a different third line of the text *\n",
      "#\n"
     ]
    }
   ],
   "source": [
    "# using relative path via os.path.join()\n",
    "import os\n",
    "file_path = os.path.join(\"Data\",\"Text\",\"sample.txt\")\n",
    "print(\"File path: \", file_path, \"\\n\")\n",
    "with open(file_path,\"r\") as file:\n",
    "    for line in file:\n",
    "        print(line.strip(), \"*\\n#\")"
   ]
  },
  {
   "cell_type": "code",
   "execution_count": 15,
   "id": "5786016e-38ba-4f7d-a7cb-c7d7b05d388b",
   "metadata": {},
   "outputs": [
    {
     "ename": "SyntaxError",
     "evalue": "invalid syntax (3212809843.py, line 1)",
     "output_type": "error",
     "traceback": [
      "\u001b[0;36m  Cell \u001b[0;32mIn[15], line 1\u001b[0;36m\u001b[0m\n\u001b[0;31m    os.getcwd().\u001b[0m\n\u001b[0m                ^\u001b[0m\n\u001b[0;31mSyntaxError\u001b[0m\u001b[0;31m:\u001b[0m invalid syntax\n"
     ]
    }
   ],
   "source": [
    "os.getcwd()."
   ]
  },
  {
   "cell_type": "code",
   "execution_count": null,
   "id": "79ab0c9c-3366-4286-87d8-a6221d1a09d6",
   "metadata": {},
   "outputs": [],
   "source": [
    "with open(\"sample_write.txt\",\"w\") as file:\n",
    "    file.write(\"This line is written by the python program.\")"
   ]
  },
  {
   "cell_type": "code",
   "execution_count": null,
   "id": "55237006-8ae9-442e-92fb-3d66258d07dd",
   "metadata": {},
   "outputs": [],
   "source": [
    "with open(\"sample_write.txt\",\"r\") as file:\n",
    "    data = file.read()\n",
    "    print(data)"
   ]
  },
  {
   "cell_type": "code",
   "execution_count": null,
   "id": "7976dad7-2976-47d4-ba31-f46f22c4e8ab",
   "metadata": {},
   "outputs": [],
   "source": [
    "# binary write and read\n",
    "with open(\"sample_binary_write.bin\",\"wb\") as file:\n",
    "    file.write(b\"This line is written by the python program in binary format.\")"
   ]
  },
  {
   "cell_type": "code",
   "execution_count": null,
   "id": "f44acae0-6c6e-46a4-a52a-ba0ddbf7f2be",
   "metadata": {},
   "outputs": [],
   "source": [
    "with open(\"sample_binary_write.bin\",\"rb\") as file:\n",
    "    data = file.read()\n",
    "    print(data)"
   ]
  },
  {
   "cell_type": "code",
   "execution_count": null,
   "id": "cc7b7a0a-5830-46cc-9633-03056ae42551",
   "metadata": {},
   "outputs": [],
   "source": [
    "# checking if file exists\n",
    "import os\n",
    "\n",
    "if os.path.exists(\"sample_binary_write.bin\"):\n",
    "    print(\"File exists!\")\n",
    "else:\n",
    "    print(\"File does not exist!\")"
   ]
  },
  {
   "cell_type": "code",
   "execution_count": null,
   "id": "29835b50-f8e8-47c1-9cd2-b67743ab126c",
   "metadata": {},
   "outputs": [],
   "source": [
    "# deleting a file\n",
    "if os.path.exists(\"sample_binary_write.bin\"):\n",
    "    os.remove(\"sample_binary_write.bin\")\n",
    "    print(\"File Deleted!\")\n",
    "else:\n",
    "    print(\"File does not exist\")"
   ]
  },
  {
   "cell_type": "code",
   "execution_count": null,
   "id": "89384647-5a3f-448e-bd20-cd2ce6b17070",
   "metadata": {},
   "outputs": [],
   "source": [
    "if os.path.exists(\"sample_binary_write.bin\"):\n",
    "    print(\"File exists!\")\n",
    "else:\n",
    "    print(\"File does not exist!\")"
   ]
  },
  {
   "cell_type": "raw",
   "id": "bfe2b198-21c7-4272-9fee-321a6f51a719",
   "metadata": {},
   "source": [
    "# reading and writing from csv\n",
    "import pandas as pd\n",
    "df = pd.read_csv('data.csv')\n",
    "print(df.head())\n",
    "df = pd.to_csv('data.csv')\n",
    "print(df.head())"
   ]
  },
  {
   "cell_type": "raw",
   "id": "0b7703d3-7a13-4a15-8933-d219aa1e6cc8",
   "metadata": {},
   "source": [
    "# reading and writing from excel\n",
    "import pandas as pd\n",
    "df = pd.read_excel('data.xlsx', sheet_anem='Sheet1')\n",
    "print(df.head())\n",
    "df = pd.to_excel('output.xlsx', sheet_anem='Sheet2)"
   ]
  },
  {
   "cell_type": "code",
   "execution_count": null,
   "id": "b3ea2989-91f0-4f09-9808-e83e9788725e",
   "metadata": {},
   "outputs": [],
   "source": [
    "# reading and writing from JSON files"
   ]
  },
  {
   "cell_type": "raw",
   "id": "6adee394-a14a-4b69-afee-dd5585f4a0ef",
   "metadata": {},
   "source": [
    "# reading and writing from SQL database\n",
    "import sqlite3 #pip install sqlite\n",
    "conn = sqlite3.connect('example.db')\n",
    "df_sql = pd.read_sql_query(\"SELECT * FROM table_name\", conn)\n",
    "print(df_sql.head());"
   ]
  },
  {
   "cell_type": "code",
   "execution_count": null,
   "id": "c32683fd-bf70-4574-8b69-0b01c4c4a561",
   "metadata": {},
   "outputs": [],
   "source": [
    "# reading and writing from API"
   ]
  },
  {
   "cell_type": "code",
   "execution_count": null,
   "id": "cfe2a7c6-bf20-4249-8cd3-cae3d1f7d963",
   "metadata": {},
   "outputs": [],
   "source": [
    "# saving an numpy array\n",
    "import numpy as np\n",
    "\n",
    "array = np.array([1,2,3,4,5])\n",
    "\n",
    "np.save(\"array.npy\",array) \n",
    "print(\"Array saved as 'array.npy'\")"
   ]
  },
  {
   "cell_type": "code",
   "execution_count": null,
   "id": "5784fecf-ee59-488a-bcd4-383a3c9d798b",
   "metadata": {},
   "outputs": [],
   "source": [
    "# can also use .npz for a more compressed file\n",
    "array1 = np.array([1,2,3])\n",
    "array2 = np.array([4,5,6])\n",
    "\n",
    "np.savez(\"arrays.npz\", array1=array1, array2=array2)\n",
    "print(\"Arrays saved as 'arrays.npz'\")"
   ]
  },
  {
   "cell_type": "code",
   "execution_count": null,
   "id": "8c11c23c-f05d-4c66-ac7c-2a4806439252",
   "metadata": {},
   "outputs": [],
   "source": [
    "# reading a saved numpy array\n",
    "loaded_array = np.load(\"array.npy\")\n",
    "print(\"Loaded array: \", loaded_array)\n",
    "\n",
    "loaded_arrays = np.load(\"arrays.npz\")\n",
    "print(\"Array1: \", loaded_arrays['array1'])\n",
    "print(\"Array2: \", loaded_arrays['array2'])\n",
    "\n",
    "array3 = loaded_arrays['array1']\n",
    "print(\"Array3[1]:\", array3[1])"
   ]
  },
  {
   "cell_type": "code",
   "execution_count": null,
   "id": "1da4e4f3-85e9-4c41-8dc4-19f452bdc96a",
   "metadata": {},
   "outputs": [],
   "source": [
    "# reading and writing text file using numpy\n",
    "array = [1,2,3,4]\n",
    "np.savetxt(\"array.txt\", array, delimiter=\",\")\n",
    "print(\"Arrays saved as 'array.txt'\")\n",
    "\n",
    "loaded_array_txt = np.loadtxt(\"array.txt\", delimiter=\",\")\n",
    "print(\"loaded array from text file: \", loaded_array_txt)"
   ]
  },
  {
   "cell_type": "code",
   "execution_count": null,
   "id": "6015edee-f05e-4502-9f4b-5073ecbc77c2",
   "metadata": {},
   "outputs": [],
   "source": [
    "import subprocess\n",
    "subprocess.run(['ls','-l'])"
   ]
  },
  {
   "cell_type": "code",
   "execution_count": null,
   "id": "5fae76d8-ad5c-4a6b-909a-016abbbc1e13",
   "metadata": {},
   "outputs": [],
   "source": [
    "os.system('ls')"
   ]
  },
  {
   "cell_type": "code",
   "execution_count": 16,
   "id": "e38e09a1-1c82-4563-9a2f-3293e00cb8e8",
   "metadata": {},
   "outputs": [
    {
     "name": "stdout",
     "output_type": "stream",
     "text": [
      "Requirement already satisfied: pillow in /opt/anaconda3/lib/python3.12/site-packages (10.4.0)\n",
      "Requirement already satisfied: opencv-python in /opt/anaconda3/lib/python3.12/site-packages (4.10.0.84)\n",
      "Requirement already satisfied: matplotlib in /opt/anaconda3/lib/python3.12/site-packages (3.9.2)\n",
      "Requirement already satisfied: numpy>=1.21.2 in /opt/anaconda3/lib/python3.12/site-packages (from opencv-python) (1.26.4)\n",
      "Requirement already satisfied: contourpy>=1.0.1 in /opt/anaconda3/lib/python3.12/site-packages (from matplotlib) (1.2.0)\n",
      "Requirement already satisfied: cycler>=0.10 in /opt/anaconda3/lib/python3.12/site-packages (from matplotlib) (0.11.0)\n",
      "Requirement already satisfied: fonttools>=4.22.0 in /opt/anaconda3/lib/python3.12/site-packages (from matplotlib) (4.51.0)\n",
      "Requirement already satisfied: kiwisolver>=1.3.1 in /opt/anaconda3/lib/python3.12/site-packages (from matplotlib) (1.4.4)\n",
      "Requirement already satisfied: packaging>=20.0 in /opt/anaconda3/lib/python3.12/site-packages (from matplotlib) (24.1)\n",
      "Requirement already satisfied: pyparsing>=2.3.1 in /opt/anaconda3/lib/python3.12/site-packages (from matplotlib) (3.1.2)\n",
      "Requirement already satisfied: python-dateutil>=2.7 in /opt/anaconda3/lib/python3.12/site-packages (from matplotlib) (2.9.0.post0)\n",
      "Requirement already satisfied: six>=1.5 in /opt/anaconda3/lib/python3.12/site-packages (from python-dateutil>=2.7->matplotlib) (1.16.0)\n"
     ]
    },
    {
     "data": {
      "text/plain": [
       "<bound method Image.show of <PIL.JpegImagePlugin.JpegImageFile image mode=RGB size=536x354 at 0x112DF8B90>>"
      ]
     },
     "execution_count": 16,
     "metadata": {},
     "output_type": "execute_result"
    }
   ],
   "source": [
    "# working with images\n",
    "!pip install pillow opencv-python matplotlib\n",
    "\n",
    "from PIL import Image\n",
    "\n",
    "image = Image.open(\"sample.jpg\")\n",
    "\n",
    "image.show"
   ]
  },
  {
   "cell_type": "code",
   "execution_count": null,
   "id": "d252dc22-146b-4b4b-861e-275fdd06c123",
   "metadata": {},
   "outputs": [],
   "source": []
  }
 ],
 "metadata": {
  "kernelspec": {
   "display_name": "Python 3 (ipykernel)",
   "language": "python",
   "name": "python3"
  },
  "language_info": {
   "codemirror_mode": {
    "name": "ipython",
    "version": 3
   },
   "file_extension": ".py",
   "mimetype": "text/x-python",
   "name": "python",
   "nbconvert_exporter": "python",
   "pygments_lexer": "ipython3",
   "version": "3.12.7"
  }
 },
 "nbformat": 4,
 "nbformat_minor": 5
}
